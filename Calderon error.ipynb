{
 "cells": [
  {
   "cell_type": "code",
   "execution_count": 1,
   "metadata": {
    "collapsed": true
   },
   "outputs": [],
   "source": [
    "import bempp.api\n",
    "import numpy as np\n",
    "\n",
    "bempp.api.global_parameters.assembly.boundary_operator_assembly_type = 'dense'"
   ]
  },
  {
   "cell_type": "code",
   "execution_count": 2,
   "metadata": {
    "collapsed": true
   },
   "outputs": [],
   "source": [
    "hvec = np.linspace(0.1, 0.5, 20)\n",
    "\n",
    "k_ext = 1.5\n",
    "k_int = 2\n",
    "mu_int = 1\n",
    "mu_ext = 1"
   ]
  },
  {
   "cell_type": "code",
   "execution_count": 3,
   "metadata": {
    "collapsed": true
   },
   "outputs": [],
   "source": [
    "e_error = []\n",
    "m_error = []"
   ]
  },
  {
   "cell_type": "code",
   "execution_count": 4,
   "metadata": {
    "collapsed": true
   },
   "outputs": [],
   "source": [
    "def plane_wave_e(x, n, d, res):\n",
    "    val =  np.array([np.exp(1j * k_ext * x[2]), 0, 0])\n",
    "    res[:] = np.cross(val, n)\n",
    "    \n",
    "def plane_wave_m(x, n, d, res):\n",
    "    val = np.array([0, 1., 0]) * np.exp(1j * k_ext * x[2])\n",
    "    res[:] = np.cross(val, n)"
   ]
  },
  {
   "cell_type": "markdown",
   "metadata": {},
   "source": [
    "## Testing with the BC spaces with the discretization as described in http://www.sciencedirect.com/science/article/pii/S0898122117304789?via%3Dihub"
   ]
  },
  {
   "cell_type": "code",
   "execution_count": 5,
   "metadata": {},
   "outputs": [
    {
     "name": "stdout",
     "output_type": "stream",
     "text": [
      "Mesh size: 0.08\n",
      "Electric error is  0.00307880706806\n",
      "Magnetic error is  0.00166962302639\n",
      "Mesh size: 0.08857142857142858\n",
      "Electric error is  0.00298210001828\n",
      "Magnetic error is  0.00161858248843\n",
      "Mesh size: 0.09714285714285714\n",
      "Electric error is  0.00332192362141\n",
      "Magnetic error is  0.00166083149388\n",
      "Mesh size: 0.10571428571428572\n",
      "Electric error is  0.00330807697996\n",
      "Magnetic error is  0.00176123662838\n",
      "Mesh size: 0.1142857142857143\n",
      "Electric error is  0.00338901781363\n",
      "Magnetic error is  0.00192981233721\n",
      "Mesh size: 0.12285714285714286\n",
      "Electric error is  0.0033904959932\n",
      "Magnetic error is  0.00192959802451\n",
      "Mesh size: 0.13142857142857145\n",
      "Electric error is  0.00417509477585\n",
      "Magnetic error is  0.00210311094188\n",
      "Mesh size: 0.14\n",
      "Electric error is  0.00424144235401\n",
      "Magnetic error is  0.00207224869082\n",
      "Mesh size: 0.14857142857142858\n",
      "Electric error is  0.00395850784743\n",
      "Magnetic error is  0.00194652598528\n",
      "Mesh size: 0.15714285714285714\n",
      "Electric error is  0.00392561948029\n",
      "Magnetic error is  0.00195563872977\n",
      "Mesh size: 0.1657142857142857\n",
      "Electric error is  0.00395516882486\n",
      "Magnetic error is  0.00193302876722\n",
      "Mesh size: 0.1742857142857143\n",
      "Electric error is  0.00411044000308\n",
      "Magnetic error is  0.00225397193708\n",
      "Mesh size: 0.18285714285714288\n",
      "Electric error is  0.00405531499331\n",
      "Magnetic error is  0.00222988442254\n",
      "Mesh size: 0.19142857142857145\n",
      "Electric error is  0.00412659533288\n",
      "Magnetic error is  0.00224699789189\n",
      "Mesh size: 0.2\n",
      "Electric error is  0.0048321938991\n",
      "Magnetic error is  0.00263359122774\n"
     ]
    }
   ],
   "source": [
    "for h in hvec:\n",
    "    grid = bempp.api.shapes.cube(h=h)\n",
    "    multitrace = bempp.api.operators.boundary.maxwell.multitrace_operator(grid, k_int)\n",
    "    identity = bempp.api.operators.boundary.sparse.multitrace_identity(grid, spaces='maxwell')\n",
    "    \n",
    "    \n",
    "    scaling_interior_1 = bempp.api.operators.boundary.sparse.multitrace_identity(grid, spaces = \"maxwell\")\n",
    "    scaling_interior_2 = bempp.api.operators.boundary.sparse.multitrace_identity(grid, spaces = \"maxwell\")\n",
    "\n",
    "    scaling_interior_1[1,1] = (k_int / mu_int) * scaling_interior_1[1,1]\n",
    "    scaling_interior_2[1,1] = (mu_int / k_int) * scaling_interior_2[1,1]\n",
    "    \n",
    "    multitrace_scaled = scaling_interior_1 * multitrace * scaling_interior_2\n",
    "    \n",
    "    calderon = 0.5 * identity + multitrace_scaled\n",
    "    \n",
    "    electric_trace = bempp.api.GridFunction(space=calderon.domain_spaces[0], fun=plane_wave_e, \n",
    "                                        dual_space=calderon.dual_to_range_spaces[0])\n",
    "\n",
    "    magnetic_trace = (k_ext/mu_ext) * bempp.api.GridFunction(space=calderon.domain_spaces[1], fun=plane_wave_m,\n",
    "                                        dual_space=calderon.dual_to_range_spaces[1])\n",
    "    \n",
    "    \n",
    "    traces_1 = calderon * [electric_trace, magnetic_trace]\n",
    "    traces_2 = calderon * traces_1\n",
    "    \n",
    "    electric_error = (traces_2[0] - traces_1[0]).l2_norm() / traces_1[0].l2_norm()\n",
    "    magnetic_error = (traces_2[1] - traces_1[1]).l2_norm() / traces_1[1].l2_norm()\n",
    "    \n",
    "    e_error.append(electric_error)\n",
    "    m_error.append(magnetic_error)\n",
    "    \n",
    "    print('Mesh size: {0}'.format(h))\n",
    "    print(\"Electric error is \", electric_error)\n",
    "    print(\"Magnetic error is \", magnetic_error)\n",
    "    "
   ]
  },
  {
   "cell_type": "code",
   "execution_count": 6,
   "metadata": {},
   "outputs": [
    {
     "name": "stdout",
     "output_type": "stream",
     "text": [
      "Order of electric error: 0.43013251208423814\n",
      "Order of magnetic error: 0.41536733696619843\n"
     ]
    }
   ],
   "source": [
    "slope_e, intercept_e = np.polyfit(np.log(hvec), np.log(e_error), 1)\n",
    "slope_m, intercept_m = np.polyfit(np.log(hvec), np.log(m_error), 1)\n",
    "\n",
    "print(\"Order of electric error: {0}\".format(slope_e))\n",
    "print(\"Order of magnetic error: {0}\".format(slope_m))"
   ]
  },
  {
   "cell_type": "code",
   "execution_count": 7,
   "metadata": {
    "collapsed": true
   },
   "outputs": [],
   "source": [
    "y_e = intercept_e + slope_e * np.log(hvec)\n",
    "y_m = intercept_m + slope_m * np.log(hvec)"
   ]
  },
  {
   "cell_type": "code",
   "execution_count": null,
   "metadata": {},
   "outputs": [
    {
     "data": {
      "image/png": "[encoded data removed]",
      "text/plain": [
       "<matplotlib.figure.Figure at 0x7fc9a502ed68>"
      ]
     },
     "metadata": {},
     "output_type": "display_data"
    }
   ],
   "source": [
    "%matplotlib inline\n",
    "from matplotlib import pyplot as plt\n",
    "\n",
    "params = {'legend.fontsize': 'x-large',\n",
    "         'axes.labelsize': 'x-large',\n",
    "         'axes.titlesize':'x-large',\n",
    "         'xtick.labelsize':'x-large',\n",
    "         'ytick.labelsize':'x-large'}\n",
    "plt.rcParams.update(params)\n",
    "\n",
    "plt.figure(figsize=(9,7))\n",
    "plt.loglog(hvec, e_error, 'b.-', markersize=10)\n",
    "plt.loglog(hvec, m_error, 'r.-', markersize=10)\n",
    "plt.loglog(hvec, np.exp(y_e), 'b--', markersize = 10)\n",
    "plt.loglog(hvec, np.exp(y_m), 'r--', markersize = 10)\n",
    "plt.legend([\"electric error\", \"magnetic error\"],fontsize = 16)\n",
    "\n",
    "plt.xlabel('h', fontsize = 16)\n",
    "plt.ylabel('relative error', fontsize = 16)\n",
    "plt.show()\n",
    "\n"
   ]
  },
  {
   "cell_type": "markdown",
   "metadata": {},
   "source": [
    "## Testing with CW basis functions on the barycentric grid"
   ]
  },
  {
   "cell_type": "code",
   "execution_count": 5,
   "metadata": {
    "collapsed": true
   },
   "outputs": [],
   "source": [
    "e_error = []\n",
    "m_error = []"
   ]
  },
  {
   "cell_type": "code",
   "execution_count": 5,
   "metadata": {},
   "outputs": [
    {
     "name": "stdout",
     "output_type": "stream",
     "text": [
      "Mesh size: 0.1\n",
      "Electric error is  0.627919286367\n",
      "Magnetic error is  536.852597924\n",
      "Mesh size: 0.12105263157894737\n",
      "Electric error is  0.643986565546\n",
      "Magnetic error is  421.009180531\n",
      "Mesh size: 0.14210526315789473\n",
      "Electric error is  0.63406529837\n",
      "Magnetic error is  411.819911136\n",
      "Mesh size: 0.1631578947368421\n",
      "Electric error is  0.66039123935\n",
      "Magnetic error is  271.028020312\n",
      "Mesh size: 0.1842105263157895\n",
      "Electric error is  0.655698053404\n",
      "Magnetic error is  230.918787566\n",
      "Mesh size: 0.20526315789473684\n",
      "Electric error is  0.688067759011\n",
      "Magnetic error is  173.941630197\n",
      "Mesh size: 0.22631578947368422\n",
      "Electric error is  0.692786472975\n",
      "Magnetic error is  171.185228922\n",
      "Mesh size: 0.24736842105263157\n",
      "Electric error is  0.685339363809\n",
      "Magnetic error is  172.701050138\n",
      "Mesh size: 0.26842105263157895\n",
      "Electric error is  0.646271866324\n",
      "Magnetic error is  126.225898986\n",
      "Mesh size: 0.2894736842105263\n",
      "Electric error is  0.646271866324\n",
      "Magnetic error is  126.225898986\n",
      "Mesh size: 0.31052631578947365\n",
      "Electric error is  0.648618799388\n",
      "Magnetic error is  124.907120517\n",
      "Mesh size: 0.3315789473684211\n",
      "Electric error is  0.648618799388\n",
      "Magnetic error is  124.907120517\n",
      "Mesh size: 0.3526315789473684\n",
      "Electric error is  0.785562706255\n",
      "Magnetic error is  98.3503963483\n",
      "Mesh size: 0.37368421052631584\n",
      "Electric error is  0.822565644257\n",
      "Magnetic error is  98.921703383\n",
      "Mesh size: 0.39473684210526316\n",
      "Electric error is  0.824987528413\n",
      "Magnetic error is  90.5726781722\n",
      "Mesh size: 0.4157894736842105\n",
      "Electric error is  0.873301729265\n",
      "Magnetic error is  89.2746573784\n",
      "Mesh size: 0.4368421052631579\n",
      "Electric error is  0.785562706255\n",
      "Magnetic error is  98.3503963483\n",
      "Mesh size: 0.45789473684210524\n",
      "Electric error is  0.824987528413\n",
      "Magnetic error is  90.5726781722\n",
      "Mesh size: 0.4789473684210527\n",
      "Electric error is  0.824987528413\n",
      "Magnetic error is  90.5726781722\n",
      "Mesh size: 0.5\n",
      "Electric error is  0.70932391139\n",
      "Magnetic error is  72.3224908565\n"
     ]
    }
   ],
   "source": [
    "for h in hvec:\n",
    "    grid = bempp.api.shapes.cube(h=h)\n",
    "    multitrace = bempp.api.assembly.BlockedOperator(2, 2)\n",
    "    identity = bempp.api.assembly.BlockedOperator(2, 2)\n",
    "    \n",
    "    rwg_space_fine = bempp.api.function_space(grid.barycentric_grid(), \"RWG\", 0)\n",
    "    rwg_space = bempp.api.function_space(grid, \"B-RWG\", 0)\n",
    "    cw_space = bempp.api.function_space(grid, \"CW\", 0)\n",
    "    rcw_space = bempp.api.function_space(grid, \"RCW\", 0)\n",
    "    snc_space = bempp.api.function_space(grid, \"B-SNC\", 0)\n",
    "    snc_space_fine = bempp.api.function_space(grid.barycentric_grid(), \"SNC\", 0)\n",
    "    \n",
    "    efie_fine = bempp.api.operators.boundary.maxwell.electric_field(rwg_space_fine, rwg_space_fine,\n",
    "                                                                      snc_space_fine, k_int)\n",
    "    mfie_fine = bempp.api.operators.boundary.maxwell.magnetic_field(rwg_space_fine, rwg_space_fine, \n",
    "                                                                      snc_space_fine, k_int)\n",
    "    \n",
    "    multitrace[0, 0] = bempp.api.space.project_operator(mfie_fine, rwg_space, rwg_space, rcw_space)\n",
    "    multitrace[0, 1] = (mu_int / k_int) * bempp.api.space.project_operator(efie_fine, cw_space, rwg_space, rcw_space)\n",
    "    multitrace[1, 0] = -(k_int / mu_int) * bempp.api.space.project_operator(efie_fine, rwg_space, cw_space, snc_space)\n",
    "    multitrace[1, 1] = bempp.api.space.project_operator(mfie_fine, cw_space, cw_space, snc_space)\n",
    "\n",
    "    identity[0, 0] = bempp.api.operators.boundary.sparse.identity(rwg_space, rwg_space, rcw_space)\n",
    "    identity[1, 1] = bempp.api.operators.boundary.sparse.identity(cw_space, cw_space, snc_space)\n",
    "    \n",
    "    calderon = 0.5 * identity + multitrace\n",
    "    \n",
    "    electric_trace = bempp.api.GridFunction(space=calderon.domain_spaces[0], fun=plane_wave_e, \n",
    "                                        dual_space=calderon.dual_to_range_spaces[0])\n",
    "\n",
    "    magnetic_trace = (k_ext/mu_ext) * bempp.api.GridFunction(space=calderon.domain_spaces[1], fun=plane_wave_m,\n",
    "                                        dual_space=calderon.dual_to_range_spaces[1])\n",
    "    \n",
    "    \n",
    "    traces_1 = calderon * [electric_trace, magnetic_trace]\n",
    "    traces_2 = calderon * traces_1\n",
    "    \n",
    "    electric_error = (traces_2[0] - traces_1[0]).l2_norm() / traces_1[0].l2_norm()\n",
    "    magnetic_error = (traces_2[1] - traces_1[1]).l2_norm() / traces_1[1].l2_norm()\n",
    "    \n",
    "    e_error.append(electric_error)\n",
    "    m_error.append(magnetic_error)\n",
    "    \n",
    "    print('Mesh size: {0}'.format(h))\n",
    "    print(\"Electric error is \", electric_error)\n",
    "    print(\"Magnetic error is \", magnetic_error)\n",
    "    "
   ]
  },
  {
   "cell_type": "code",
   "execution_count": 6,
   "metadata": {},
   "outputs": [
    {
     "name": "stdout",
     "output_type": "stream",
     "text": [
      "Order of electric error: 0.1731455823596192\n",
      "Order of magnetic error: -1.202487866654394\n"
     ]
    }
   ],
   "source": [
    "slope_e, intercept_e = np.polyfit(np.log(hvec), np.log(e_error), 1)\n",
    "slope_m, intercept_m = np.polyfit(np.log(hvec), np.log(m_error), 1)\n",
    "\n",
    "print(\"Order of electric error: {0}\".format(slope_e))\n",
    "print(\"Order of magnetic error: {0}\".format(slope_m))"
   ]
  },
  {
   "cell_type": "code",
   "execution_count": 7,
   "metadata": {
    "collapsed": true
   },
   "outputs": [],
   "source": [
    "y_e = intercept_e + slope_e * np.log(hvec)\n",
    "y_m = intercept_m + slope_m * np.log(hvec)"
   ]
  },
  {
   "cell_type": "code",
   "execution_count": 8,
   "metadata": {},
   "outputs": [
    {
     "data": {
      "image/png": "[encoded data removed]",
      "text/plain": [
       "<matplotlib.figure.Figure at 0x7f51a39eb080>"
      ]
     },
     "metadata": {},
     "output_type": "display_data"
    }
   ],
   "source": [
    "%matplotlib inline\n",
    "from matplotlib import pyplot as plt\n",
    "\n",
    "params = {'legend.fontsize': 'x-large',\n",
    "         'axes.labelsize': 'x-large',\n",
    "         'axes.titlesize':'x-large',\n",
    "         'xtick.labelsize':'x-large',\n",
    "         'ytick.labelsize':'x-large'}\n",
    "plt.rcParams.update(params)\n",
    "\n",
    "plt.figure(figsize=(9,7))\n",
    "plt.loglog(hvec, e_error, 'b.-', markersize=10)\n",
    "plt.loglog(hvec, m_error, 'r.-', markersize=10)\n",
    "plt.loglog(hvec, np.exp(y_e), 'b--', markersize = 10)\n",
    "plt.loglog(hvec, np.exp(y_m), 'r--', markersize = 10)\n",
    "plt.legend([\"electric error\", \"magnetic error\"],fontsize = 16)\n",
    "\n",
    "plt.xlabel('h', fontsize = 16)\n",
    "plt.ylabel('relative error', fontsize = 16)\n",
    "plt.show()\n",
    "\n",
    "\n"
   ]
  },
  {
   "cell_type": "markdown",
   "metadata": {
    "collapsed": true
   },
   "source": [
    "## Testing with CW coefficients on the Bogaert grid"
   ]
  },
  {
   "cell_type": "code",
   "execution_count": 9,
   "metadata": {
    "collapsed": true
   },
   "outputs": [],
   "source": [
    "e_error = []\n",
    "m_error = []"
   ]
  },
  {
   "cell_type": "code",
   "execution_count": 10,
   "metadata": {},
   "outputs": [
    {
     "name": "stdout",
     "output_type": "stream",
     "text": [
      "Mesh size: 0.1\n",
      "Electric error is  0.656323389853\n",
      "Magnetic error is  524.26346038\n",
      "Mesh size: 0.12105263157894737\n",
      "Electric error is  0.659887898815\n",
      "Magnetic error is  413.422035765\n",
      "Mesh size: 0.14210526315789473\n",
      "Electric error is  0.69352238793\n",
      "Magnetic error is  399.885345773\n",
      "Mesh size: 0.1631578947368421\n",
      "Electric error is  0.669230163878\n",
      "Magnetic error is  262.200588706\n",
      "Mesh size: 0.1842105263157895\n",
      "Electric error is  0.689857813335\n",
      "Magnetic error is  226.544508518\n",
      "Mesh size: 0.20526315789473684\n",
      "Electric error is  0.736338077685\n",
      "Magnetic error is  166.450219996\n",
      "Mesh size: 0.22631578947368422\n",
      "Electric error is  0.749722385688\n",
      "Magnetic error is  164.628692977\n",
      "Mesh size: 0.24736842105263157\n",
      "Electric error is  0.738191866778\n",
      "Magnetic error is  167.115182833\n",
      "Mesh size: 0.26842105263157895\n",
      "Electric error is  0.627862777305\n",
      "Magnetic error is  123.919762521\n",
      "Mesh size: 0.2894736842105263\n",
      "Electric error is  0.627862777305\n",
      "Magnetic error is  123.919762521\n",
      "Mesh size: 0.31052631578947365\n",
      "Electric error is  0.631732346305\n",
      "Magnetic error is  121.627516345\n",
      "Mesh size: 0.3315789473684211\n",
      "Electric error is  0.631732346305\n",
      "Magnetic error is  121.627516345\n",
      "Mesh size: 0.3526315789473684\n",
      "Electric error is  0.820829393294\n",
      "Magnetic error is  93.7499505925\n",
      "Mesh size: 0.37368421052631584\n",
      "Electric error is  0.947706120497\n",
      "Magnetic error is  92.7440426193\n",
      "Mesh size: 0.39473684210526316\n",
      "Electric error is  0.872671162762\n",
      "Magnetic error is  87.3204959109\n",
      "Mesh size: 0.4157894736842105\n",
      "Electric error is  1.02289023452\n",
      "Magnetic error is  84.6115498471\n",
      "Mesh size: 0.4368421052631579\n",
      "Electric error is  0.820829393294\n",
      "Magnetic error is  93.7499505925\n",
      "Mesh size: 0.45789473684210524\n",
      "Electric error is  0.872671162762\n",
      "Magnetic error is  87.3204959109\n",
      "Mesh size: 0.4789473684210527\n",
      "Electric error is  0.872671162762\n",
      "Magnetic error is  87.3204959109\n",
      "Mesh size: 0.5\n",
      "Electric error is  0.599487673361\n",
      "Magnetic error is  66.2826113947\n"
     ]
    }
   ],
   "source": [
    "for h in hvec:\n",
    "    grid = bempp.api.shapes.cube(h=h)\n",
    "    multitrace = bempp.api.assembly.BlockedOperator(2, 2)\n",
    "    identity = bempp.api.assembly.BlockedOperator(2, 2)\n",
    "    \n",
    "    rwg_space_fine = bempp.api.function_space(grid.bogaert_refinement_grid(), \"RWG\", 0)\n",
    "    rwg_space = bempp.api.function_space(grid, \"BG-RWG\", 0)\n",
    "    mcw_space = bempp.api.function_space(grid, \"MCW\", 0)\n",
    "    mrcw_space = bempp.api.function_space(grid, \"MRCW\", 0)\n",
    "    snc_space = bempp.api.function_space(grid, \"BG-SNC\", 0)\n",
    "    snc_space_fine = bempp.api.function_space(grid.bogaert_refinement_grid(), \"SNC\", 0)\n",
    "    \n",
    "    efie_fine = bempp.api.operators.boundary.maxwell.electric_field(rwg_space_fine, rwg_space_fine,\n",
    "                                                                      snc_space_fine, k_int)\n",
    "    mfie_fine = bempp.api.operators.boundary.maxwell.magnetic_field(rwg_space_fine, rwg_space_fine, \n",
    "                                                                      snc_space_fine, k_int)\n",
    "    \n",
    "    multitrace[0, 0] = bempp.api.space.project_operator(mfie_fine, rwg_space, rwg_space, mrcw_space)\n",
    "    multitrace[0, 1] = (mu_int / k_int) * bempp.api.space.project_operator(efie_fine, mcw_space, rwg_space, mrcw_space)\n",
    "    multitrace[1, 0] = -(k_int / mu_int) * bempp.api.space.project_operator(efie_fine, rwg_space, mcw_space, snc_space)\n",
    "    multitrace[1, 1] = bempp.api.space.project_operator(mfie_fine, mcw_space, mcw_space, snc_space)\n",
    "\n",
    "    identity[0, 0] = bempp.api.operators.boundary.sparse.identity(multitrace.domain_spaces[0],\n",
    "                                                                  multitrace.range_spaces[0],\n",
    "                                                                  multitrace.dual_to_range_spaces[0])\n",
    "    identity[1, 1] = bempp.api.operators.boundary.sparse.identity(multitrace.domain_spaces[1], \n",
    "                                                                  multitrace.range_spaces[1],\n",
    "                                                                  multitrace.dual_to_range_spaces[1])\n",
    "    calderon = 0.5 * identity + multitrace\n",
    "    \n",
    "    electric_trace = bempp.api.GridFunction(space=calderon.domain_spaces[0], fun=plane_wave_e, \n",
    "                                        dual_space=calderon.dual_to_range_spaces[0])\n",
    "\n",
    "    magnetic_trace = (k_ext/mu_ext) * bempp.api.GridFunction(space=calderon.domain_spaces[1], fun=plane_wave_m,\n",
    "                                        dual_space=calderon.dual_to_range_spaces[1])\n",
    "    \n",
    "    \n",
    "    traces_1 = calderon * [electric_trace, magnetic_trace]\n",
    "    traces_2 = calderon * traces_1\n",
    "    \n",
    "    electric_error = (traces_2[0] - traces_1[0]).l2_norm() / traces_1[0].l2_norm()\n",
    "    magnetic_error = (traces_2[1] - traces_1[1]).l2_norm() / traces_1[1].l2_norm()\n",
    "    \n",
    "    e_error.append(electric_error)\n",
    "    m_error.append(magnetic_error)\n",
    "    \n",
    "    print('Mesh size: {0}'.format(h))\n",
    "    print(\"Electric error is \", electric_error)\n",
    "    print(\"Magnetic error is \", magnetic_error)\n",
    "    "
   ]
  },
  {
   "cell_type": "code",
   "execution_count": 11,
   "metadata": {},
   "outputs": [
    {
     "name": "stdout",
     "output_type": "stream",
     "text": [
      "Order of electric error: 0.15570423270155495\n",
      "Order of magnetic error: -1.2231450598082207\n"
     ]
    }
   ],
   "source": [
    "slope_e, intercept_e = np.polyfit(np.log(hvec), np.log(e_error), 1)\n",
    "slope_m, intercept_m = np.polyfit(np.log(hvec), np.log(m_error), 1)\n",
    "\n",
    "print(\"Order of electric error: {0}\".format(slope_e))\n",
    "print(\"Order of magnetic error: {0}\".format(slope_m))"
   ]
  },
  {
   "cell_type": "code",
   "execution_count": 12,
   "metadata": {
    "collapsed": true
   },
   "outputs": [],
   "source": [
    "y_e = intercept_e + slope_e * np.log(hvec)\n",
    "y_m = intercept_m + slope_m * np.log(hvec)"
   ]
  },
  {
   "cell_type": "code",
   "execution_count": 13,
   "metadata": {},
   "outputs": [
    {
     "data": {
      "image/png": "[encoded data removed]",
      "text/plain": [
       "<matplotlib.figure.Figure at 0x7f51a3a63cc0>"
      ]
     },
     "metadata": {},
     "output_type": "display_data"
    }
   ],
   "source": [
    "%matplotlib inline\n",
    "from matplotlib import pyplot as plt\n",
    "\n",
    "params = {'legend.fontsize': 'x-large',\n",
    "         'axes.labelsize': 'x-large',\n",
    "         'axes.titlesize':'x-large',\n",
    "         'xtick.labelsize':'x-large',\n",
    "         'ytick.labelsize':'x-large'}\n",
    "plt.rcParams.update(params)\n",
    "\n",
    "plt.figure(figsize=(9,7))\n",
    "plt.loglog(hvec, e_error, 'b.-', markersize=10)\n",
    "plt.loglog(hvec, m_error, 'r.-', markersize=10)\n",
    "plt.loglog(hvec, np.exp(y_e), 'b--', markersize = 10)\n",
    "plt.loglog(hvec, np.exp(y_m), 'r--', markersize = 10)\n",
    "plt.legend([\"electric error\", \"magnetic error\"],fontsize = 16)\n",
    "\n",
    "plt.xlabel('h', fontsize = 16)\n",
    "plt.ylabel('relative error', fontsize = 16)\n",
    "plt.show()"
   ]
  },
  {
   "cell_type": "code",
   "execution_count": 14,
   "metadata": {
    "collapsed": true
   },
   "outputs": [],
   "source": [
    "h = 0.5"
   ]
  },
  {
   "cell_type": "code",
   "execution_count": 15,
   "metadata": {
    "collapsed": true
   },
   "outputs": [],
   "source": [
    "grid = bempp.api.shapes.cube(h=h)\n",
    "multitrace = bempp.api.assembly.BlockedOperator(2, 2)\n",
    "identity = bempp.api.assembly.BlockedOperator(2, 2)\n",
    "    \n",
    "rwg_space_fine = bempp.api.function_space(grid.bogaert_refinement_grid(), \"RWG\", 0)\n",
    "rwg_space = bempp.api.function_space(grid, \"BG-RWG\", 0)\n",
    "cw_space = bempp.api.function_space(grid, \"MCW\", 0)\n",
    "rcw_space = bempp.api.function_space(grid, \"MRCW\", 0)\n",
    "snc_space = bempp.api.function_space(grid, \"BG-SNC\", 0)\n",
    "snc_space_fine = bempp.api.function_space(grid.bogaert_refinement_grid(), \"SNC\", 0)\n",
    "    \n",
    "efie_fine = bempp.api.operators.boundary.maxwell.electric_field(rwg_space_fine, rwg_space_fine,\n",
    "                                                                      snc_space_fine, k_int)\n",
    "mfie_fine = bempp.api.operators.boundary.maxwell.magnetic_field(rwg_space_fine, rwg_space_fine, \n",
    "                                                                      snc_space_fine, k_int)\n",
    "    \n",
    "multitrace[0, 0] = bempp.api.space.project_operator(mfie_fine, rwg_space, rwg_space, rcw_space)\n",
    "multitrace[0, 1] = (mu_int / k_int) * bempp.api.space.project_operator(efie_fine, cw_space, rwg_space, rcw_space)\n",
    "multitrace[1, 0] = -(k_int / mu_int) * bempp.api.space.project_operator(efie_fine, rwg_space, cw_space, snc_space)\n",
    "multitrace[1, 1] = bempp.api.space.project_operator(mfie_fine, cw_space, cw_space, snc_space)\n",
    "\n"
   ]
  },
  {
   "cell_type": "code",
   "execution_count": 16,
   "metadata": {},
   "outputs": [
    {
     "data": {
      "text/plain": [
       "(<bempp.api.space.space.ModifiedRotatedChenWiltonSpace at 0x7f516e71eb38>,\n",
       " <bempp.api.space.space.BogaertSNCSpace at 0x7f51a39e1860>)"
      ]
     },
     "execution_count": 16,
     "metadata": {},
     "output_type": "execute_result"
    }
   ],
   "source": [
    "multitrace.dual_to_range_spaces"
   ]
  },
  {
   "cell_type": "code",
   "execution_count": 17,
   "metadata": {},
   "outputs": [
    {
     "name": "stdout",
     "output_type": "stream",
     "text": [
      "Mesh size: 0.5\n",
      "Electric error is  0.599487673361\n",
      "Magnetic error is  66.2826113947\n"
     ]
    }
   ],
   "source": [
    "identity[0, 0] = bempp.api.operators.boundary.sparse.identity(multitrace.domain_spaces[0], multitrace.range_spaces[0],\n",
    "                                                              multitrace.dual_to_range_spaces[0])\n",
    "identity[1, 1] = bempp.api.operators.boundary.sparse.identity(multitrace.domain_spaces[1], multitrace.range_spaces[1],\n",
    "                                                              multitrace.dual_to_range_spaces[1])\n",
    "    \n",
    "calderon = 0.5 * identity + multitrace\n",
    "    \n",
    "electric_trace = bempp.api.GridFunction(space=calderon.domain_spaces[0], fun=plane_wave_e, \n",
    "                                        dual_space=calderon.dual_to_range_spaces[0])\n",
    "\n",
    "magnetic_trace = (k_ext/mu_ext) * bempp.api.GridFunction(space=calderon.domain_spaces[1], fun=plane_wave_m,\n",
    "                                        dual_space=calderon.dual_to_range_spaces[1])\n",
    "    \n",
    "    \n",
    "traces_1 = calderon * [electric_trace, magnetic_trace]\n",
    "traces_2 = calderon * traces_1\n",
    "    \n",
    "electric_error = (traces_2[0] - traces_1[0]).l2_norm() / traces_1[0].l2_norm()\n",
    "magnetic_error = (traces_2[1] - traces_1[1]).l2_norm() / traces_1[1].l2_norm()\n",
    "    \n",
    "e_error.append(electric_error)\n",
    "m_error.append(magnetic_error)\n",
    "    \n",
    "print('Mesh size: {0}'.format(h))\n",
    "print(\"Electric error is \", electric_error)\n",
    "print(\"Magnetic error is \", magnetic_error)"
   ]
  },
  {
   "cell_type": "code",
   "execution_count": 65,
   "metadata": {},
   "outputs": [
    {
     "data": {
      "text/plain": [
       "(<bempp.api.space.space.BogaertRWGSpace at 0x7ff6b4106ac8>,\n",
       " <bempp.api.space.space.ModifiedChenWiltonSpace at 0x7ff6b40def60>)"
      ]
     },
     "execution_count": 65,
     "metadata": {},
     "output_type": "execute_result"
    }
   ],
   "source": [
    "multitrace.domain_spaces"
   ]
  },
  {
   "cell_type": "code",
   "execution_count": 35,
   "metadata": {},
   "outputs": [
    {
     "data": {
      "text/plain": [
       "<bempp.api.space.space.BarycentricSNCSpace at 0x7ff6d429afd0>"
      ]
     },
     "execution_count": 35,
     "metadata": {},
     "output_type": "execute_result"
    }
   ],
   "source": [
    "magnetic_trace.dual_space"
   ]
  },
  {
   "cell_type": "code",
   "execution_count": 79,
   "metadata": {
    "collapsed": true
   },
   "outputs": [],
   "source": [
    "h = 10/(2*np.pi*k_ext)"
   ]
  },
  {
   "cell_type": "code",
   "execution_count": 80,
   "metadata": {},
   "outputs": [
    {
     "data": {
      "text/plain": [
       "1.0610329539459689"
      ]
     },
     "execution_count": 80,
     "metadata": {},
     "output_type": "execute_result"
    }
   ],
   "source": [
    "h"
   ]
  },
  {
   "cell_type": "code",
   "execution_count": null,
   "metadata": {
    "collapsed": true
   },
   "outputs": [],
   "source": []
  }
 ],
 "metadata": {
  "kernelspec": {
   "display_name": "Python 3",
   "language": "python",
   "name": "python3"
  },
  "language_info": {
   "codemirror_mode": {
    "name": "ipython",
    "version": 3
   },
   "file_extension": ".py",
   "mimetype": "text/x-python",
   "name": "python",
   "nbconvert_exporter": "python",
   "pygments_lexer": "ipython3",
   "version": "3.6.3"
  }
 },
 "nbformat": 4,
 "nbformat_minor": 2
}
