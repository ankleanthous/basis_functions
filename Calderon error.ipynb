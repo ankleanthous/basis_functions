{
 "cells": [
  {
   "cell_type": "code",
   "execution_count": 1,
   "metadata": {
    "collapsed": true
   },
   "outputs": [],
   "source": [
    "import bempp.api\n",
    "import numpy as np\n",
    "\n",
    "bempp.api.global_parameters.assembly.boundary_operator_assembly_type = 'dense'"
   ]
  },
  {
   "cell_type": "code",
   "execution_count": 2,
   "metadata": {
    "collapsed": true
   },
   "outputs": [],
   "source": [
    "hvec = np.linspace(0.08, 0.2, 15)\n",
    "# hvec = [0.2, 0.18, 0.16, 0.14, 0.12, 0.1, 0.08]\n",
    "# k_ext = 1\n",
    "k = 1.5"
   ]
  },
  {
   "cell_type": "code",
   "execution_count": 3,
   "metadata": {
    "collapsed": true
   },
   "outputs": [],
   "source": [
    "e_error = []\n",
    "m_error = []\n"
   ]
  },
  {
   "cell_type": "code",
   "execution_count": 4,
   "metadata": {
    "collapsed": true
   },
   "outputs": [],
   "source": [
    "def plane_wave_e(x, n, d, res):\n",
    "    val =  np.array([np.exp(1j * k * x[2]), 0, 0])\n",
    "    res[:] = np.cross(val, n)\n",
    "    \n",
    "def plane_wave_m(x, n, d, res):\n",
    "    val = np.array([0, 1., 0]) * np.exp(1j * k * x[2])\n",
    "    res[:] = np.cross(val, n)"
   ]
  },
  {
   "cell_type": "code",
   "execution_count": 5,
   "metadata": {},
   "outputs": [
    {
     "name": "stdout",
     "output_type": "stream",
     "text": [
      "Mesh size: 0.08\n",
      "Degrees of freedom: 3684\n",
      "Electric error: 0.002459933982021631\n",
      "Magnetic error: 0.0018162544567359691\n",
      "Mesh size: 0.08857142857142858\n",
      "Degrees of freedom: 3108\n",
      "Electric error: 0.0024459112874477148\n",
      "Magnetic error: 0.0017362899091909571\n",
      "Mesh size: 0.09714285714285714\n",
      "Degrees of freedom: 2652\n",
      "Electric error: 0.002664488956701126\n",
      "Magnetic error: 0.0018036503414185872\n",
      "Mesh size: 0.10571428571428572\n",
      "Degrees of freedom: 2196\n",
      "Electric error: 0.002592075233768443\n",
      "Magnetic error: 0.0018820828355021846\n",
      "Mesh size: 0.1142857142857143\n",
      "Degrees of freedom: 1794\n",
      "Electric error: 0.0026488235852933665\n",
      "Magnetic error: 0.002059759415369951\n",
      "Mesh size: 0.12285714285714286\n",
      "Degrees of freedom: 1794\n",
      "Electric error: 0.002650468407368996\n",
      "Magnetic error: 0.002059608441769945\n",
      "Mesh size: 0.13142857142857145\n",
      "Degrees of freedom: 1464\n",
      "Electric error: 0.00345131064005641\n",
      "Magnetic error: 0.0022727635882684614\n",
      "Mesh size: 0.14\n",
      "Degrees of freedom: 1467\n",
      "Electric error: 0.0034729431410662256\n",
      "Magnetic error: 0.0022438956295635797\n",
      "Mesh size: 0.14857142857142858\n",
      "Degrees of freedom: 1068\n",
      "Electric error: 0.0030230047910879796\n",
      "Magnetic error: 0.002038582009547383\n",
      "Mesh size: 0.15714285714285714\n",
      "Degrees of freedom: 1068\n",
      "Electric error: 0.0029879271667576945\n",
      "Magnetic error: 0.002049204587010255\n",
      "Mesh size: 0.1657142857142857\n",
      "Degrees of freedom: 1068\n",
      "Electric error: 0.003013702611877042\n",
      "Magnetic error: 0.0020269677416950133\n",
      "Mesh size: 0.1742857142857143\n",
      "Degrees of freedom: 810\n",
      "Electric error: 0.0031800913540767552\n",
      "Magnetic error: 0.0023961510470961243\n",
      "Mesh size: 0.18285714285714288\n",
      "Degrees of freedom: 810\n",
      "Electric error: 0.003127660156202279\n",
      "Magnetic error: 0.0023773107586028356\n",
      "Mesh size: 0.19142857142857145\n",
      "Degrees of freedom: 810\n",
      "Electric error: 0.003196919449549476\n",
      "Magnetic error: 0.0023712041384709314\n",
      "Mesh size: 0.2\n",
      "Degrees of freedom: 600\n",
      "Electric error: 0.003692924259725959\n",
      "Magnetic error: 0.0027428796818660703\n"
     ]
    }
   ],
   "source": [
    "for h in hvec:\n",
    "    grid = bempp.api.shapes.cube(h=h)\n",
    "    multitrace = bempp.api.operators.boundary.maxwell.multitrace_operator(grid, k)\n",
    "    ident = bempp.api.operators.boundary.sparse.multitrace_identity(grid, spaces='maxwell')\n",
    "    calderon = .5 * ident + multitrace\n",
    "\n",
    "    e = bempp.api.GridFunction(calderon.domain_spaces[0], \n",
    "                               dual_space=calderon.dual_to_range_spaces[0], fun=plane_wave_e)\n",
    "    m = bempp.api.GridFunction(calderon.domain_spaces[1], \n",
    "                               dual_space=calderon.dual_to_range_spaces[1], fun=plane_wave_m)\n",
    "    \n",
    "    dof_count = calderon.domain_spaces[0].global_dof_count\n",
    "\n",
    "    # Compute the error between C and C**2\n",
    "    r1 = calderon * [e, m]\n",
    "    r2 = calderon * r1\n",
    "    electric_error = (r2[0] - r1[0]).l2_norm() / r1[0].l2_norm()\n",
    "    magnetic_error = (r2[1] - r1[1]).l2_norm() / r1[1].l2_norm()\n",
    "    e_error.append(electric_error)\n",
    "    m_error.append(magnetic_error)\n",
    "    \n",
    "    print('Mesh size: {0}'.format(h))\n",
    "    print('Degrees of freedom: {0}'.format(dof_count))\n",
    "    print(\"Electric error: {0}\".format(electric_error))\n",
    "    print(\"Magnetic error: {0}\".format(magnetic_error))"
   ]
  },
  {
   "cell_type": "code",
   "execution_count": 6,
   "metadata": {
    "collapsed": true
   },
   "outputs": [],
   "source": [
    "%matplotlib inline\n",
    "from matplotlib import pyplot as plt"
   ]
  },
  {
   "cell_type": "code",
   "execution_count": 8,
   "metadata": {},
   "outputs": [
    {
     "name": "stdout",
     "output_type": "stream",
     "text": [
      "Order of electric error: 0.369463810466398\n",
      "Order of magnetic error: 0.38010698367269435\n"
     ]
    }
   ],
   "source": [
    "slope_e, intercept_e = np.polyfit(np.log(hvec), np.log(e_error), 1)\n",
    "slope_m, intercept_m = np.polyfit(np.log(hvec), np.log(m_error), 1)\n",
    "\n",
    "print(\"Order of electric error: {0}\".format(slope_e))\n",
    "print(\"Order of magnetic error: {0}\".format(slope_m))"
   ]
  },
  {
   "cell_type": "code",
   "execution_count": 9,
   "metadata": {},
   "outputs": [
    {
     "data": {
      "image/png": "[encoded data removed]",
      "text/plain": [
       "<matplotlib.figure.Figure at 0x7f1bcbd163c8>"
      ]
     },
     "metadata": {},
     "output_type": "display_data"
    }
   ],
   "source": [
    "plt.figure(figsize=(9,7))\n",
    "plt.loglog(hvec, e_error, 'b.-', markersize=10)\n",
    "plt.loglog(hvec, m_error, 'r.-', markersize=10)\n",
    "plt.legend([\"electric error\", \"magnetic error\"],fontsize = 16)\n",
    "\n",
    "plt.xlabel('h', fontsize = 16)\n",
    "plt.ylabel('relative error', fontsize = 16)\n",
    "plt.tick_params(axis='both', which='major', labelsize=10)\n",
    "plt.tick_params(axis='both', which='minor', labelsize=8)\n"
   ]
  },
  {
   "cell_type": "code",
   "execution_count": null,
   "metadata": {
    "collapsed": true
   },
   "outputs": [],
   "source": []
  }
 ],
 "metadata": {
  "kernelspec": {
   "display_name": "Python 3",
   "language": "python",
   "name": "python3"
  },
  "language_info": {
   "codemirror_mode": {
    "name": "ipython",
    "version": 3
   },
   "file_extension": ".py",
   "mimetype": "text/x-python",
   "name": "python",
   "nbconvert_exporter": "python",
   "pygments_lexer": "ipython3",
   "version": "3.6.3"
  }
 },
 "nbformat": 4,
 "nbformat_minor": 2
}
