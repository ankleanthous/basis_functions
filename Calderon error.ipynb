{
 "cells": [
  {
   "cell_type": "code",
   "execution_count": 1,
   "metadata": {
    "collapsed": true
   },
   "outputs": [],
   "source": [
    "import bempp.api\n",
    "import numpy as np\n",
    "\n",
    "bempp.api.global_parameters.assembly.boundary_operator_assembly_type = 'dense'"
   ]
  },
  {
   "cell_type": "code",
   "execution_count": 2,
   "metadata": {
    "collapsed": true
   },
   "outputs": [],
   "source": [
    "hvec = np.linspace(0.08, 0.2, 15)\n",
    "\n",
    "k_ext = 1.5\n",
    "k_int = 2\n",
    "mu_int = 1\n",
    "mu_ext = 1"
   ]
  },
  {
   "cell_type": "code",
   "execution_count": 3,
   "metadata": {
    "collapsed": true
   },
   "outputs": [],
   "source": [
    "e_error = []\n",
    "m_error = []"
   ]
  },
  {
   "cell_type": "code",
   "execution_count": 4,
   "metadata": {
    "collapsed": true
   },
   "outputs": [],
   "source": [
    "def plane_wave_e(x, n, d, res):\n",
    "    val =  np.array([np.exp(1j * k_ext * x[2]), 0, 0])\n",
    "    res[:] = np.cross(val, n)\n",
    "    \n",
    "def plane_wave_m(x, n, d, res):\n",
    "    val = np.array([0, 1., 0]) * np.exp(1j * k_ext * x[2])\n",
    "    res[:] = np.cross(val, n)"
   ]
  },
  {
   "cell_type": "markdown",
   "metadata": {},
   "source": [
    "## Testing with the BC spaces with the discretization as described in "
   ]
  },
  {
   "cell_type": "code",
   "execution_count": 5,
   "metadata": {},
   "outputs": [
    {
     "name": "stdout",
     "output_type": "stream",
     "text": [
      "Mesh size: 0.08\n",
      "Electric error is  0.00307880706806\n",
      "Magnetic error is  0.00166962302639\n",
      "Mesh size: 0.08857142857142858\n",
      "Electric error is  0.00298210001828\n",
      "Magnetic error is  0.00161858248843\n",
      "Mesh size: 0.09714285714285714\n",
      "Electric error is  0.00332192362141\n",
      "Magnetic error is  0.00166083149388\n",
      "Mesh size: 0.10571428571428572\n",
      "Electric error is  0.00330807697996\n",
      "Magnetic error is  0.00176123662838\n",
      "Mesh size: 0.1142857142857143\n",
      "Electric error is  0.00338901781363\n",
      "Magnetic error is  0.00192981233721\n",
      "Mesh size: 0.12285714285714286\n",
      "Electric error is  0.0033904959932\n",
      "Magnetic error is  0.00192959802451\n",
      "Mesh size: 0.13142857142857145\n",
      "Electric error is  0.00417509477585\n",
      "Magnetic error is  0.00210311094188\n",
      "Mesh size: 0.14\n",
      "Electric error is  0.00424144235401\n",
      "Magnetic error is  0.00207224869081\n",
      "Mesh size: 0.14857142857142858\n",
      "Electric error is  0.00395850784743\n",
      "Magnetic error is  0.00194652598528\n",
      "Mesh size: 0.15714285714285714\n",
      "Electric error is  0.00392561948029\n",
      "Magnetic error is  0.00195563872977\n",
      "Mesh size: 0.1657142857142857\n",
      "Electric error is  0.00395516882486\n",
      "Magnetic error is  0.00193302876722\n",
      "Mesh size: 0.1742857142857143\n",
      "Electric error is  0.00411044000308\n",
      "Magnetic error is  0.00225397193708\n",
      "Mesh size: 0.18285714285714288\n",
      "Electric error is  0.00405531499331\n",
      "Magnetic error is  0.00222988442254\n",
      "Mesh size: 0.19142857142857145\n",
      "Electric error is  0.00412659533288\n",
      "Magnetic error is  0.00224699789189\n",
      "Mesh size: 0.2\n",
      "Electric error is  0.0048321938991\n",
      "Magnetic error is  0.00263359122774\n"
     ]
    }
   ],
   "source": [
    "for h in hvec:\n",
    "    grid = bempp.api.shapes.cube(h=h)\n",
    "    multitrace = bempp.api.operators.boundary.maxwell.multitrace_operator(grid, k_int)\n",
    "    identity = bempp.api.operators.boundary.sparse.multitrace_identity(grid, spaces='maxwell')\n",
    "    \n",
    "    \n",
    "    scaling_interior_1 = bempp.api.operators.boundary.sparse.multitrace_identity(grid, spaces = \"maxwell\")\n",
    "    scaling_interior_2 = bempp.api.operators.boundary.sparse.multitrace_identity(grid, spaces = \"maxwell\")\n",
    "\n",
    "    scaling_interior_1[1,1] = (k_int / mu_int) * scaling_interior_1[1,1]\n",
    "    scaling_interior_2[1,1] = (mu_int / k_int) * scaling_interior_2[1,1]\n",
    "    \n",
    "    multitrace_scaled = scaling_interior_1 * multitrace * scaling_interior_2\n",
    "    \n",
    "    calderon = 0.5 * identity + multitrace_scaled\n",
    "    \n",
    "    electric_trace = bempp.api.GridFunction(space=calderon.domain_spaces[0], fun=plane_wave_e, \n",
    "                                        dual_space=calderon.dual_to_range_spaces[0])\n",
    "\n",
    "    magnetic_trace = (k_ext/mu_ext) * bempp.api.GridFunction(space=calderon.domain_spaces[1], fun=plane_wave_m,\n",
    "                                        dual_space=calderon.dual_to_range_spaces[1])\n",
    "    \n",
    "    \n",
    "    traces_1 = calderon * [electric_trace, magnetic_trace]\n",
    "    traces_2 = calderon * traces_1\n",
    "    \n",
    "    electric_error = (traces_2[0] - traces_1[0]).l2_norm() / traces_1[0].l2_norm()\n",
    "    magnetic_error = (traces_2[1] - traces_1[1]).l2_norm() / traces_1[1].l2_norm()\n",
    "    \n",
    "    e_error.append(electric_error)\n",
    "    m_error.append(magnetic_error)\n",
    "    \n",
    "    print('Mesh size: {0}'.format(h))\n",
    "    print(\"Electric error is \", electric_error)\n",
    "    print(\"Magnetic error is \", magnetic_error)\n",
    "    "
   ]
  },
  {
   "cell_type": "code",
   "execution_count": 6,
   "metadata": {},
   "outputs": [
    {
     "name": "stdout",
     "output_type": "stream",
     "text": [
      "Order of electric error: 0.4301325120841886\n",
      "Order of magnetic error: 0.41536733696666484\n"
     ]
    }
   ],
   "source": [
    "slope_e, intercept_e = np.polyfit(np.log(hvec), np.log(e_error), 1)\n",
    "slope_m, intercept_m = np.polyfit(np.log(hvec), np.log(m_error), 1)\n",
    "\n",
    "print(\"Order of electric error: {0}\".format(slope_e))\n",
    "print(\"Order of magnetic error: {0}\".format(slope_m))"
   ]
  },
  {
   "cell_type": "code",
   "execution_count": 46,
   "metadata": {
    "collapsed": true
   },
   "outputs": [],
   "source": [
    "y_e = intercept_e + slope_e * np.log(hvec)\n",
    "y_m = intercept_m + slope_m * np.log(hvec)"
   ]
  },
  {
   "cell_type": "code",
   "execution_count": 49,
   "metadata": {},
   "outputs": [
    {
     "data": {
      "image/png": "[encoded data removed]",
      "text/plain": [
       "<matplotlib.figure.Figure at 0x7fa960b37e80>"
      ]
     },
     "metadata": {},
     "output_type": "display_data"
    }
   ],
   "source": [
    "%matplotlib inline\n",
    "from matplotlib import pyplot as plt\n",
    "\n",
    "params = {'legend.fontsize': 'x-large',\n",
    "         'axes.labelsize': 'x-large',\n",
    "         'axes.titlesize':'x-large',\n",
    "         'xtick.labelsize':'x-large',\n",
    "         'ytick.labelsize':'x-large'}\n",
    "plt.rcParams.update(params)\n",
    "\n",
    "plt.figure(figsize=(9,7))\n",
    "plt.loglog(hvec, e_error, 'b.-', markersize=10)\n",
    "plt.loglog(hvec, m_error, 'r.-', markersize=10)\n",
    "plt.loglog(hvec, np.exp(y_e), 'b--', markersize = 10)\n",
    "plt.loglog(hvec, np.exp(y_m), 'r--', markersize = 10)\n",
    "plt.legend([\"electric error\", \"magnetic error\"],fontsize = 16)\n",
    "\n",
    "plt.xlabel('h', fontsize = 16)\n",
    "plt.ylabel('relative error', fontsize = 16)\n",
    "plt.show()\n",
    "\n"
   ]
  },
  {
   "cell_type": "markdown",
   "metadata": {},
   "source": [
    "## Testing with CW basis functions on the barycentric grid"
   ]
  },
  {
   "cell_type": "code",
   "execution_count": 5,
   "metadata": {},
   "outputs": [
    {
     "name": "stdout",
     "output_type": "stream",
     "text": [
      "Mesh size: 0.08\n",
      "Electric error is  0.643673166013\n",
      "Magnetic error is  352.248790343\n",
      "Mesh size: 0.08857142857142858\n",
      "Electric error is  0.625834994527\n",
      "Magnetic error is  302.202260948\n",
      "Mesh size: 0.09714285714285714\n",
      "Electric error is  0.640247734545\n",
      "Magnetic error is  271.480534569\n",
      "Mesh size: 0.10571428571428572\n",
      "Electric error is  0.623830775722\n",
      "Magnetic error is  235.28444512\n",
      "Mesh size: 0.1142857142857143\n",
      "Electric error is  0.633365647872\n",
      "Magnetic error is  203.098384799\n",
      "Mesh size: 0.12285714285714286\n",
      "Electric error is  0.633325571201\n",
      "Magnetic error is  203.14208667\n",
      "Mesh size: 0.13142857142857145\n",
      "Electric error is  0.637428854038\n",
      "Magnetic error is  170.735362864\n",
      "Mesh size: 0.14\n",
      "Electric error is  0.638738585699\n",
      "Magnetic error is  169.323297394\n",
      "Mesh size: 0.14857142857142858\n",
      "Electric error is  0.632814262456\n",
      "Magnetic error is  137.533599463\n",
      "Mesh size: 0.15714285714285714\n",
      "Electric error is  0.633063440373\n",
      "Magnetic error is  137.36265293\n",
      "Mesh size: 0.1657142857142857\n",
      "Electric error is  0.630755930448\n",
      "Magnetic error is  139.604110348\n",
      "Mesh size: 0.1742857142857143\n",
      "Electric error is  0.651801580598\n",
      "Magnetic error is  104.817894515\n",
      "Mesh size: 0.18285714285714288\n",
      "Electric error is  0.64858073288\n",
      "Magnetic error is  104.656896006\n",
      "Mesh size: 0.19142857142857145\n",
      "Electric error is  0.649847748447\n",
      "Magnetic error is  106.309578264\n",
      "Mesh size: 0.2\n",
      "Electric error is  0.657595664022\n",
      "Magnetic error is  79.5520540104\n"
     ]
    }
   ],
   "source": [
    "for h in hvec:\n",
    "    grid = bempp.api.shapes.cube(h=h)\n",
    "    multitrace = bempp.api.assembly.BlockedOperator(2, 2)\n",
    "#     identity = bempp.api.operators.boundary.sparse.multitrace_identity(grid, spaces='maxwell')\n",
    "    identity = bempp.api.assembly.BlockedOperator(2, 2)\n",
    "    \n",
    "    rwg_space_fine = bempp.api.function_space(grid.barycentric_grid(), \"RWG\", 0)\n",
    "    rwg_space = bempp.api.function_space(grid, \"B-RWG\", 0)\n",
    "    cw_space = bempp.api.function_space(grid, \"CW\", 0)\n",
    "    rcw_space = bempp.api.function_space(grid, \"RCW\", 0)\n",
    "    snc_space = bempp.api.function_space(grid, \"B-SNC\", 0)\n",
    "    snc_space_fine = bempp.api.function_space(grid.barycentric_grid(), \"SNC\", 0)\n",
    "    \n",
    "    efie_fine = bempp.api.operators.boundary.maxwell.electric_field(rwg_space_fine, rwg_space_fine,\n",
    "                                                                      snc_space_fine, k_int)\n",
    "    mfie_fine = bempp.api.operators.boundary.maxwell.magnetic_field(rwg_space_fine, rwg_space_fine, \n",
    "                                                                      snc_space_fine, k_int)\n",
    "    \n",
    "    multitrace[0, 0] = bempp.api.space.project_operator(mfie_fine, rwg_space, rwg_space, rcw_space)\n",
    "    multitrace[0, 1] = (mu_int / k_int) * bempp.api.space.project_operator(efie_fine, cw_space, rwg_space, rcw_space)\n",
    "    multitrace[1, 0] = -(k_int / mu_int) * bempp.api.space.project_operator(efie_fine, rwg_space, cw_space, snc_space)\n",
    "    multitrace[1, 1] = bempp.api.space.project_operator(mfie_fine, cw_space, cw_space, snc_space)\n",
    "\n",
    "    identity[0, 0] = bempp.api.operators.boundary.sparse.identity(rwg_space, rwg_space, rcw_space)\n",
    "    identity[1, 1] = bempp.api.operators.boundary.sparse.identity(cw_space, cw_space, snc_space)\n",
    "    \n",
    "    calderon = 0.5 * identity + multitrace\n",
    "    \n",
    "    electric_trace = bempp.api.GridFunction(space=calderon.domain_spaces[0], fun=plane_wave_e, \n",
    "                                        dual_space=calderon.dual_to_range_spaces[0])\n",
    "\n",
    "    magnetic_trace = (k_ext/mu_ext) * bempp.api.GridFunction(space=calderon.domain_spaces[1], fun=plane_wave_m,\n",
    "                                        dual_space=calderon.dual_to_range_spaces[1])\n",
    "    \n",
    "    \n",
    "    traces_1 = calderon * [electric_trace, magnetic_trace]\n",
    "    traces_2 = calderon * traces_1\n",
    "    \n",
    "    electric_error = (traces_2[0] - traces_1[0]).l2_norm() / traces_1[0].l2_norm()\n",
    "    magnetic_error = (traces_2[1] - traces_1[1]).l2_norm() / traces_1[1].l2_norm()\n",
    "    \n",
    "    e_error.append(electric_error)\n",
    "    m_error.append(magnetic_error)\n",
    "    \n",
    "    print('Mesh size: {0}'.format(h))\n",
    "    print(\"Electric error is \", electric_error)\n",
    "    print(\"Magnetic error is \", magnetic_error)\n",
    "    "
   ]
  },
  {
   "cell_type": "code",
   "execution_count": 6,
   "metadata": {},
   "outputs": [
    {
     "name": "stdout",
     "output_type": "stream",
     "text": [
      "Order of electric error: 0.029392358970983926\n",
      "Order of magnetic error: -1.4838350565547627\n"
     ]
    }
   ],
   "source": [
    "slope_e, intercept_e = np.polyfit(np.log(hvec), np.log(e_error), 1)\n",
    "slope_m, intercept_m = np.polyfit(np.log(hvec), np.log(m_error), 1)\n",
    "\n",
    "print(\"Order of electric error: {0}\".format(slope_e))\n",
    "print(\"Order of magnetic error: {0}\".format(slope_m))"
   ]
  },
  {
   "cell_type": "code",
   "execution_count": 7,
   "metadata": {
    "collapsed": true
   },
   "outputs": [],
   "source": [
    "y_e = intercept_e + slope_e * np.log(hvec)\n",
    "y_m = intercept_m + slope_m * np.log(hvec)"
   ]
  },
  {
   "cell_type": "code",
   "execution_count": 8,
   "metadata": {},
   "outputs": [
    {
     "data": {
      "image/png": "[encoded data removed]",
      "text/plain": [
       "<matplotlib.figure.Figure at 0x7f134e8779e8>"
      ]
     },
     "metadata": {},
     "output_type": "display_data"
    }
   ],
   "source": [
    "%matplotlib inline\n",
    "from matplotlib import pyplot as plt\n",
    "\n",
    "params = {'legend.fontsize': 'x-large',\n",
    "         'axes.labelsize': 'x-large',\n",
    "         'axes.titlesize':'x-large',\n",
    "         'xtick.labelsize':'x-large',\n",
    "         'ytick.labelsize':'x-large'}\n",
    "plt.rcParams.update(params)\n",
    "\n",
    "plt.figure(figsize=(9,7))\n",
    "plt.loglog(hvec, e_error, 'b.-', markersize=10)\n",
    "plt.loglog(hvec, m_error, 'r.-', markersize=10)\n",
    "plt.loglog(hvec, np.exp(y_e), 'b--', markersize = 10)\n",
    "plt.loglog(hvec, np.exp(y_m), 'r--', markersize = 10)\n",
    "plt.legend([\"electric error\", \"magnetic error\"],fontsize = 16)\n",
    "\n",
    "plt.xlabel('h', fontsize = 16)\n",
    "plt.ylabel('relative error', fontsize = 16)\n",
    "plt.show()\n",
    "\n",
    "\n"
   ]
  },
  {
   "cell_type": "markdown",
   "metadata": {
    "collapsed": true
   },
   "source": [
    "## Testing with CW coefficients on the Bogaert grid"
   ]
  },
  {
   "cell_type": "code",
   "execution_count": 7,
   "metadata": {},
   "outputs": [
    {
     "name": "stdout",
     "output_type": "stream",
     "text": [
      "Mesh size: 0.08\n",
      "Electric error is  0.656810928838\n",
      "Magnetic error is  348.009870421\n",
      "Mesh size: 0.08857142857142858\n",
      "Electric error is  0.638365537119\n",
      "Magnetic error is  296.976539314\n",
      "Mesh size: 0.09714285714285714\n",
      "Electric error is  0.657463543347\n",
      "Magnetic error is  266.395324154\n",
      "Mesh size: 0.10571428571428572\n",
      "Electric error is  0.638190664114\n",
      "Magnetic error is  231.916393367\n",
      "Mesh size: 0.1142857142857143\n",
      "Electric error is  0.647950754441\n",
      "Magnetic error is  200.616421735\n",
      "Mesh size: 0.12285714285714286\n",
      "Electric error is  0.647852782207\n",
      "Magnetic error is  200.653578178\n",
      "Mesh size: 0.13142857142857145\n",
      "Electric error is  0.655860947577\n",
      "Magnetic error is  168.044999786\n",
      "Mesh size: 0.14\n",
      "Electric error is  0.657925938782\n",
      "Magnetic error is  166.483886424\n",
      "Mesh size: 0.14857142857142858\n",
      "Electric error is  0.653231751918\n",
      "Magnetic error is  134.935338815\n",
      "Mesh size: 0.15714285714285714\n",
      "Electric error is  0.653287019294\n",
      "Magnetic error is  134.793869713\n",
      "Mesh size: 0.1657142857142857\n",
      "Electric error is  0.655926203723\n",
      "Magnetic error is  136.922535936\n",
      "Mesh size: 0.1742857142857143\n",
      "Electric error is  0.674628045165\n",
      "Magnetic error is  102.966438668\n",
      "Mesh size: 0.18285714285714288\n",
      "Electric error is  0.671701946579\n",
      "Magnetic error is  102.690491532\n",
      "Mesh size: 0.19142857142857145\n",
      "Electric error is  0.672271173447\n",
      "Magnetic error is  104.612387521\n",
      "Mesh size: 0.2\n",
      "Electric error is  0.682372783363\n",
      "Magnetic error is  77.9188169316\n"
     ]
    }
   ],
   "source": [
    "for h in hvec:\n",
    "    grid = bempp.api.shapes.cube(h=h)\n",
    "    multitrace = bempp.api.assembly.BlockedOperator(2, 2)\n",
    "    identity = bempp.api.assembly.BlockedOperator(2, 2)\n",
    "    \n",
    "    rwg_space_fine = bempp.api.function_space(grid.bogaert_refinement_grid(), \"RWG\", 0)\n",
    "    rwg_space = bempp.api.function_space(grid, \"BG-RWG\", 0)\n",
    "    mcw_space = bempp.api.function_space(grid, \"CW\", 0)\n",
    "    mrcw_space = bempp.api.function_space(grid, \"RCW\", 0)\n",
    "    snc_space = bempp.api.function_space(grid, \"BG-SNC\", 0)\n",
    "    snc_space_fine = bempp.api.function_space(grid.bogaert_refinement_grid(), \"SNC\", 0)\n",
    "    \n",
    "    efie_fine = bempp.api.operators.boundary.maxwell.electric_field(rwg_space_fine, rwg_space_fine,\n",
    "                                                                      snc_space_fine, k_int)\n",
    "    mfie_fine = bempp.api.operators.boundary.maxwell.magnetic_field(rwg_space_fine, rwg_space_fine, \n",
    "                                                                      snc_space_fine, k_int)\n",
    "    \n",
    "    multitrace[0, 0] = bempp.api.space.project_operator(mfie_fine, rwg_space, rwg_space, mrcw_space)\n",
    "    multitrace[0, 1] = (mu_int / k_int) * bempp.api.space.project_operator(efie_fine, mcw_space, rwg_space, mrcw_space)\n",
    "    multitrace[1, 0] = -(k_int / mu_int) * bempp.api.space.project_operator(efie_fine, rwg_space, mcw_space, snc_space)\n",
    "    multitrace[1, 1] = bempp.api.space.project_operator(mfie_fine, mcw_space, mcw_space, snc_space)\n",
    "\n",
    "    identity[0, 0] = bempp.api.operators.boundary.sparse.identity(rwg_space, rwg_space, mrcw_space)\n",
    "    identity[1, 1] = bempp.api.operators.boundary.sparse.identity(mcw_space, mcw_space, snc_space)\n",
    "    \n",
    "    calderon = 0.5 * identity + multitrace\n",
    "    \n",
    "    electric_trace = bempp.api.GridFunction(space=calderon.domain_spaces[0], fun=plane_wave_e, \n",
    "                                        dual_space=calderon.dual_to_range_spaces[0])\n",
    "\n",
    "    magnetic_trace = (k_ext/mu_ext) * bempp.api.GridFunction(space=calderon.domain_spaces[1], fun=plane_wave_m,\n",
    "                                        dual_space=calderon.dual_to_range_spaces[1])\n",
    "    \n",
    "    \n",
    "    traces_1 = calderon * [electric_trace, magnetic_trace]\n",
    "    traces_2 = calderon * traces_1\n",
    "    \n",
    "    electric_error = (traces_2[0] - traces_1[0]).l2_norm() / traces_1[0].l2_norm()\n",
    "    magnetic_error = (traces_2[1] - traces_1[1]).l2_norm() / traces_1[1].l2_norm()\n",
    "    \n",
    "    e_error.append(electric_error)\n",
    "    m_error.append(magnetic_error)\n",
    "    \n",
    "    print('Mesh size: {0}'.format(h))\n",
    "    print(\"Electric error is \", electric_error)\n",
    "    print(\"Magnetic error is \", magnetic_error)\n",
    "    "
   ]
  },
  {
   "cell_type": "code",
   "execution_count": 8,
   "metadata": {},
   "outputs": [
    {
     "name": "stdout",
     "output_type": "stream",
     "text": [
      "Order of electric error: 0.049338021825959616\n",
      "Order of magnetic error: -1.489460232845925\n"
     ]
    }
   ],
   "source": [
    "slope_e, intercept_e = np.polyfit(np.log(hvec), np.log(e_error), 1)\n",
    "slope_m, intercept_m = np.polyfit(np.log(hvec), np.log(m_error), 1)\n",
    "\n",
    "print(\"Order of electric error: {0}\".format(slope_e))\n",
    "print(\"Order of magnetic error: {0}\".format(slope_m))"
   ]
  },
  {
   "cell_type": "code",
   "execution_count": 9,
   "metadata": {
    "collapsed": true
   },
   "outputs": [],
   "source": [
    "y_e = intercept_e + slope_e * np.log(hvec)\n",
    "y_m = intercept_m + slope_m * np.log(hvec)"
   ]
  },
  {
   "cell_type": "code",
   "execution_count": 10,
   "metadata": {},
   "outputs": [
    {
     "data": {
      "image/png": "[encoded data removed]",
      "text/plain": [
       "<matplotlib.figure.Figure at 0x7fda2d2204e0>"
      ]
     },
     "metadata": {},
     "output_type": "display_data"
    }
   ],
   "source": [
    "%matplotlib inline\n",
    "from matplotlib import pyplot as plt\n",
    "\n",
    "params = {'legend.fontsize': 'x-large',\n",
    "         'axes.labelsize': 'x-large',\n",
    "         'axes.titlesize':'x-large',\n",
    "         'xtick.labelsize':'x-large',\n",
    "         'ytick.labelsize':'x-large'}\n",
    "plt.rcParams.update(params)\n",
    "\n",
    "plt.figure(figsize=(9,7))\n",
    "plt.loglog(hvec, e_error, 'b.-', markersize=10)\n",
    "plt.loglog(hvec, m_error, 'r.-', markersize=10)\n",
    "plt.loglog(hvec, np.exp(y_e), 'b--', markersize = 10)\n",
    "plt.loglog(hvec, np.exp(y_m), 'r--', markersize = 10)\n",
    "plt.legend([\"electric error\", \"magnetic error\"],fontsize = 16)\n",
    "\n",
    "plt.xlabel('h', fontsize = 16)\n",
    "plt.ylabel('relative error', fontsize = 16)\n",
    "plt.show()"
   ]
  },
  {
   "cell_type": "code",
   "execution_count": null,
   "metadata": {
    "collapsed": true
   },
   "outputs": [],
   "source": []
  }
 ],
 "metadata": {
  "kernelspec": {
   "display_name": "Python 3",
   "language": "python",
   "name": "python3"
  },
  "language_info": {
   "codemirror_mode": {
    "name": "ipython",
    "version": 3
   },
   "file_extension": ".py",
   "mimetype": "text/x-python",
   "name": "python",
   "nbconvert_exporter": "python",
   "pygments_lexer": "ipython3",
   "version": "3.6.3"
  }
 },
 "nbformat": 4,
 "nbformat_minor": 2
}
