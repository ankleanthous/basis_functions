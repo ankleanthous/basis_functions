{
 "cells": [
  {
   "cell_type": "code",
   "execution_count": 1,
   "metadata": {
    "collapsed": true
   },
   "outputs": [],
   "source": [
    "import bempp.api\n",
    "import numpy as np\n",
    "\n",
    "bempp.api.global_parameters.assembly.boundary_operator_assembly_type = 'dense'"
   ]
  },
  {
   "cell_type": "code",
   "execution_count": 2,
   "metadata": {
    "collapsed": true
   },
   "outputs": [],
   "source": [
    "hvec = np.linspace(0.08, 0.2, 15)\n",
    "k_ext = 1\n",
    "k = 1.5"
   ]
  },
  {
   "cell_type": "code",
   "execution_count": 3,
   "metadata": {
    "collapsed": true
   },
   "outputs": [],
   "source": [
    "e_error = []\n",
    "m_error = []\n",
    "\n",
    "ep_error = []\n",
    "mp_error = []"
   ]
  },
  {
   "cell_type": "code",
   "execution_count": 4,
   "metadata": {
    "collapsed": true
   },
   "outputs": [],
   "source": [
    "def plane_wave_e(x, n, d, res):\n",
    "    val =  np.array([np.exp(1j * k_ext * x[2]), 0, 0])\n",
    "    res[:] = np.cross(val, n)\n",
    "    \n",
    "def plane_wave_m(x, n, d, res):\n",
    "    val = np.array([0, 1., 0]) * np.exp(1j * k_ext * x[2])\n",
    "    res[:] = np.cross(val, n)"
   ]
  },
  {
   "cell_type": "code",
   "execution_count": null,
   "metadata": {},
   "outputs": [],
   "source": [
    "for h in hvec:\n",
    "    grid = bempp.api.shapes.cube(h=h)\n",
    "    multitrace = bempp.api.operators.boundary.maxwell.multitrace_operator(grid, k)\n",
    "    ident = bempp.api.operators.boundary.sparse.multitrace_identity(grid, spaces='maxwell')\n",
    "    calderon = .5 * ident + multitrace\n",
    "\n",
    "    e = bempp.api.GridFunction(calderon.domain_spaces[0], \n",
    "                               dual_space=calderon.dual_to_range_spaces[0], fun=plane_wave_e)\n",
    "    m = bempp.api.GridFunction(calderon.domain_spaces[1], \n",
    "                               dual_space=calderon.dual_to_range_spaces[1], fun=plane_wave_m)\n",
    "    \n",
    "    dof_count = calderon.domain_spaces[0].global_dof_count\n",
    "\n",
    "    # Compute the error between C and C**2\n",
    "    r1 = calderon * [e, m]\n",
    "    r2 = calderon * r1\n",
    "    electric_error = (r2[0] - r1[0]).l2_norm() / r1[0].l2_norm()\n",
    "    magnetic_error = (r2[1] - r1[1]).l2_norm() / r1[1].l2_norm()\n",
    "    e_error.append(electric_error)\n",
    "    m_error.append(magnetic_error)\n",
    "\n",
    "    # Compute the error of projecting a plane wave on the range of the discrete calderon operator\n",
    "    \n",
    "    [e_plane_wave_error, m_plane_wave_error] = (.5 * ident - multitrace) * [e, m]\n",
    "    ep_error.append(e_plane_wave_error.l2_norm() / e.l2_norm())\n",
    "    mp_error.append(m_plane_wave_error.l2_norm() / m.l2_norm())\n",
    "    \n",
    "    \n",
    "    print('Mesh size: {0}'.format(h))\n",
    "    print('Degrees of freedom: {0}'.format(dof_count))\n",
    "    print(\"Electric error: {0}\".format(electric_error))\n",
    "    print(\"Magnetic error: {0}\".format(magnetic_error))\n",
    "    print(\"E-Plane Wave Error {0}\".format(ep_error[-1]))\n",
    "    print(\"M-Plane Wave Error {0}\".format(mp_error[-1]))"
   ]
  },
  {
   "cell_type": "code",
   "execution_count": null,
   "metadata": {},
   "outputs": [],
   "source": [
    "print(e_error)\n",
    "print(m_error)\n",
    "print(ep_error)\n",
    "print(mp_error)"
   ]
  },
  {
   "cell_type": "code",
   "execution_count": null,
   "metadata": {
    "collapsed": true
   },
   "outputs": [],
   "source": [
    "%matplotlib inline\n",
    "from matplotlib import pyplot as plt"
   ]
  },
  {
   "cell_type": "code",
   "execution_count": null,
   "metadata": {},
   "outputs": [],
   "source": [
    "slope_e, intercept_e = np.polyfit(np.log(hvec), np.log(e_error), 1)\n",
    "slope_m, intercept_m = np.polyfit(np.log(hvec), np.log(m_error), 1)\n",
    "slope_ep, intercept_ep = np.polyfit(np.log(hvec), np.log(ep_error), 1)\n",
    "slope_mp, intercept_mp = np.polyfit(np.log(hvec), np.log(mp_error), 1)\n",
    "\n",
    "print(\"Order of electric error: {0}\".format(slope_e))\n",
    "print(\"Order of magnetic error: {0}\".format(slope_m))\n",
    "print(\"Order of electric projection error: {0}\".format(slope_ep))\n",
    "print(\"Order of magnetic projection error: {0}\".format(slope_mp))"
   ]
  },
  {
   "cell_type": "code",
   "execution_count": null,
   "metadata": {},
   "outputs": [],
   "source": [
    "plt.loglog(hvec, e_error, 'b.-', markersize=10)\n",
    "plt.loglog(hvec, m_error, 'r.-', markersize=10)\n",
    "plt.legend([\"electric error\", \"magnetic error\"],fontsize = 16)\n",
    "\n",
    "plt.xlabel('h', fontsize = 16)\n",
    "plt.ylabel('relative error', fontsize = 16)\n",
    "plt.tick_params(axis='both', which='major', labelsize=10)\n",
    "plt.tick_params(axis='both', which='minor', labelsize=8)\n"
   ]
  },
  {
   "cell_type": "code",
   "execution_count": null,
   "metadata": {
    "collapsed": true
   },
   "outputs": [],
   "source": []
  }
 ],
 "metadata": {
  "kernelspec": {
   "display_name": "Python 3",
   "language": "python",
   "name": "python3"
  },
  "language_info": {
   "codemirror_mode": {
    "name": "ipython",
    "version": 3
   },
   "file_extension": ".py",
   "mimetype": "text/x-python",
   "name": "python",
   "nbconvert_exporter": "python",
   "pygments_lexer": "ipython3",
   "version": "3.6.3"
  }
 },
 "nbformat": 4,
 "nbformat_minor": 2
}
