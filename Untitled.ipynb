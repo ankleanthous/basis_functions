{
 "cells": [
  {
   "cell_type": "code",
   "execution_count": 1,
   "metadata": {
    "collapsed": true
   },
   "outputs": [],
   "source": [
    "import bempp.api\n",
    "import numpy as np\n",
    "\n",
    "bempp.api.global_parameters.assembly.boundary_operator_assembly_type = 'dense'"
   ]
  },
  {
   "cell_type": "code",
   "execution_count": 2,
   "metadata": {
    "collapsed": true
   },
   "outputs": [],
   "source": [
    "hvec = np.linspace(0.08, 0.2, 15)\n",
    "\n",
    "k_ext = 1.5\n",
    "k_int = 2\n",
    "mu_int = 1\n",
    "mu_ext = 1"
   ]
  },
  {
   "cell_type": "code",
   "execution_count": 3,
   "metadata": {
    "collapsed": true
   },
   "outputs": [],
   "source": [
    "e_error = []\n",
    "m_error = []"
   ]
  },
  {
   "cell_type": "code",
   "execution_count": 4,
   "metadata": {
    "collapsed": true
   },
   "outputs": [],
   "source": [
    "def plane_wave_e(x, n, d, res):\n",
    "    val =  np.array([np.exp(1j * k_ext * x[2]), 0, 0])\n",
    "    res[:] = np.cross(val, n)\n",
    "    \n",
    "def plane_wave_m(x, n, d, res):\n",
    "    val = np.array([0, 1., 0]) * np.exp(1j * k_ext * x[2])\n",
    "    res[:] = np.cross(val, n)"
   ]
  },
  {
   "cell_type": "markdown",
   "metadata": {},
   "source": [
    "## Testing with the BC spaces with the discretization as described in "
   ]
  },
  {
   "cell_type": "code",
   "execution_count": 5,
   "metadata": {},
   "outputs": [
    {
     "name": "stdout",
     "output_type": "stream",
     "text": [
      "Mesh size: 0.08\n",
      "Electric error is  0.00307880706806\n",
      "Magnetic error is  0.00166962302639\n",
      "Mesh size: 0.08857142857142858\n",
      "Electric error is  0.00298210001828\n",
      "Magnetic error is  0.00161858248843\n",
      "Mesh size: 0.09714285714285714\n",
      "Electric error is  0.00332192362141\n",
      "Magnetic error is  0.00166083149388\n",
      "Mesh size: 0.10571428571428572\n",
      "Electric error is  0.00330807697996\n",
      "Magnetic error is  0.00176123662838\n",
      "Mesh size: 0.1142857142857143\n",
      "Electric error is  0.00338901781363\n",
      "Magnetic error is  0.00192981233721\n",
      "Mesh size: 0.12285714285714286\n",
      "Electric error is  0.0033904959932\n",
      "Magnetic error is  0.00192959802451\n",
      "Mesh size: 0.13142857142857145\n",
      "Electric error is  0.00417509477585\n",
      "Magnetic error is  0.00210311094188\n",
      "Mesh size: 0.14\n",
      "Electric error is  0.00424144235401\n",
      "Magnetic error is  0.00207224869081\n",
      "Mesh size: 0.14857142857142858\n",
      "Electric error is  0.00395850784743\n",
      "Magnetic error is  0.00194652598528\n",
      "Mesh size: 0.15714285714285714\n",
      "Electric error is  0.00392561948029\n",
      "Magnetic error is  0.00195563872977\n",
      "Mesh size: 0.1657142857142857\n",
      "Electric error is  0.00395516882486\n",
      "Magnetic error is  0.00193302876722\n",
      "Mesh size: 0.1742857142857143\n",
      "Electric error is  0.00411044000308\n",
      "Magnetic error is  0.00225397193708\n",
      "Mesh size: 0.18285714285714288\n",
      "Electric error is  0.00405531499331\n",
      "Magnetic error is  0.00222988442254\n",
      "Mesh size: 0.19142857142857145\n",
      "Electric error is  0.00412659533288\n",
      "Magnetic error is  0.00224699789189\n",
      "Mesh size: 0.2\n",
      "Electric error is  0.0048321938991\n",
      "Magnetic error is  0.00263359122774\n"
     ]
    }
   ],
   "source": [
    "for h in hvec:\n",
    "    grid = bempp.api.shapes.cube(h=h)\n",
    "    multitrace = bempp.api.operators.boundary.maxwell.multitrace_operator(grid, k_int)\n",
    "    identity = bempp.api.operators.boundary.sparse.multitrace_identity(grid, spaces='maxwell')\n",
    "    \n",
    "    \n",
    "    scaling_interior_1 = bempp.api.operators.boundary.sparse.multitrace_identity(grid, spaces = \"maxwell\")\n",
    "    scaling_interior_2 = bempp.api.operators.boundary.sparse.multitrace_identity(grid, spaces = \"maxwell\")\n",
    "\n",
    "    scaling_interior_1[1,1] = (k_int / mu_int) * scaling_interior_1[1,1]\n",
    "    scaling_interior_2[1,1] = (mu_int / k_int) * scaling_interior_2[1,1]\n",
    "    \n",
    "    multitrace_scaled = scaling_interior_1 * multitrace * scaling_interior_2\n",
    "    \n",
    "    calderon = 0.5 * identity + multitrace_scaled\n",
    "    \n",
    "    electric_trace = bempp.api.GridFunction(space=calderon.domain_spaces[0], fun=plane_wave_e, \n",
    "                                        dual_space=calderon.dual_to_range_spaces[0])\n",
    "\n",
    "    magnetic_trace = (k_ext/mu_ext) * bempp.api.GridFunction(space=calderon.domain_spaces[1], fun=plane_wave_m,\n",
    "                                        dual_space=calderon.dual_to_range_spaces[1])\n",
    "    \n",
    "    \n",
    "    traces_1 = calderon * [electric_trace, magnetic_trace]\n",
    "    traces_2 = calderon * traces_1\n",
    "    \n",
    "    electric_error = (traces_2[0] - traces_1[0]).l2_norm() / traces_1[0].l2_norm()\n",
    "    magnetic_error = (traces_2[1] - traces_1[1]).l2_norm() / traces_1[1].l2_norm()\n",
    "    \n",
    "    e_error.append(electric_error)\n",
    "    m_error.append(magnetic_error)\n",
    "    \n",
    "    print('Mesh size: {0}'.format(h))\n",
    "    print(\"Electric error is \", electric_error)\n",
    "    print(\"Magnetic error is \", magnetic_error)\n",
    "    "
   ]
  },
  {
   "cell_type": "code",
   "execution_count": 6,
   "metadata": {},
   "outputs": [
    {
     "name": "stdout",
     "output_type": "stream",
     "text": [
      "Order of electric error: 0.4301325120841886\n",
      "Order of magnetic error: 0.41536733696666484\n"
     ]
    }
   ],
   "source": [
    "slope_e, intercept_e = np.polyfit(np.log(hvec), np.log(e_error), 1)\n",
    "slope_m, intercept_m = np.polyfit(np.log(hvec), np.log(m_error), 1)\n",
    "\n",
    "print(\"Order of electric error: {0}\".format(slope_e))\n",
    "print(\"Order of magnetic error: {0}\".format(slope_m))"
   ]
  },
  {
   "cell_type": "code",
   "execution_count": 46,
   "metadata": {
    "collapsed": true
   },
   "outputs": [],
   "source": [
    "y_e = intercept_e + slope_e * np.log(hvec)\n",
    "y_m = intercept_m + slope_m * np.log(hvec)"
   ]
  },
  {
   "cell_type": "code",
   "execution_count": 49,
   "metadata": {},
   "outputs": [
    {
     "data": {
      "image/png": "[encoded data removed]",
      "text/plain": [
       "<matplotlib.figure.Figure at 0x7fa960b37e80>"
      ]
     },
     "metadata": {},
     "output_type": "display_data"
    }
   ],
   "source": [
    "%matplotlib inline\n",
    "from matplotlib import pyplot as plt\n",
    "\n",
    "params = {'legend.fontsize': 'x-large',\n",
    "         'axes.labelsize': 'x-large',\n",
    "         'axes.titlesize':'x-large',\n",
    "         'xtick.labelsize':'x-large',\n",
    "         'ytick.labelsize':'x-large'}\n",
    "plt.rcParams.update(params)\n",
    "\n",
    "plt.figure(figsize=(9,7))\n",
    "plt.loglog(hvec, e_error, 'b.-', markersize=10)\n",
    "plt.loglog(hvec, m_error, 'r.-', markersize=10)\n",
    "plt.loglog(hvec, np.exp(y_e), 'b--', markersize = 10)\n",
    "plt.loglog(hvec, np.exp(y_m), 'r--', markersize = 10)\n",
    "plt.legend([\"electric error\", \"magnetic error\"],fontsize = 16)\n",
    "\n",
    "plt.xlabel('h', fontsize = 16)\n",
    "plt.ylabel('relative error', fontsize = 16)\n",
    "plt.show()\n",
    "\n"
   ]
  },
  {
   "cell_type": "markdown",
   "metadata": {},
   "source": [
    "## Testing with CW coefficients and the Bogaert refinement"
   ]
  },
  {
   "cell_type": "code",
   "execution_count": 8,
   "metadata": {},
   "outputs": [
    {
     "name": "stdout",
     "output_type": "stream",
     "text": [
      "Mesh size: 0.08\n",
      "Electric error is  0.643285609389\n",
      "Magnetic error is  343.369141115\n",
      "Mesh size: 0.08857142857142858\n",
      "Electric error is  0.626163628299\n",
      "Magnetic error is  294.795197706\n",
      "Mesh size: 0.09714285714285714\n",
      "Electric error is  0.640915531695\n",
      "Magnetic error is  265.201068293\n",
      "Mesh size: 0.10571428571428572\n",
      "Electric error is  0.624683372374\n",
      "Magnetic error is  229.946729932\n",
      "Mesh size: 0.1142857142857143\n",
      "Electric error is  0.633551196663\n",
      "Magnetic error is  199.356910856\n",
      "Mesh size: 0.12285714285714286\n",
      "Electric error is  0.633508166691\n",
      "Magnetic error is  199.407594702\n",
      "Mesh size: 0.13142857142857145\n",
      "Electric error is  0.637907482708\n",
      "Magnetic error is  166.660844348\n",
      "Mesh size: 0.14\n",
      "Electric error is  0.63928446232\n",
      "Magnetic error is  165.289509794\n",
      "Mesh size: 0.14857142857142858\n",
      "Electric error is  0.63387708491\n",
      "Magnetic error is  134.362032743\n",
      "Mesh size: 0.15714285714285714\n",
      "Electric error is  0.63420944016\n",
      "Magnetic error is  134.303838949\n",
      "Mesh size: 0.1657142857142857\n",
      "Electric error is  0.632298406313\n",
      "Magnetic error is  136.67182838\n",
      "Mesh size: 0.1742857142857143\n",
      "Electric error is  0.652314506501\n",
      "Magnetic error is  103.068370145\n",
      "Mesh size: 0.18285714285714288\n",
      "Electric error is  0.649761127587\n",
      "Magnetic error is  102.83846019\n",
      "Mesh size: 0.19142857142857145\n",
      "Electric error is  0.650575095472\n",
      "Magnetic error is  104.442637428\n",
      "Mesh size: 0.2\n",
      "Electric error is  0.65813572917\n",
      "Magnetic error is  78.2824154146\n"
     ]
    }
   ],
   "source": [
    "for h in hvec:\n",
    "    grid = bempp.api.shapes.cube(h=h)\n",
    "    multitrace = bempp.api.assembly.BlockedOperator(2, 2)\n",
    "#     identity = bempp.api.operators.boundary.sparse.multitrace_identity(grid, spaces='maxwell')\n",
    "    identity = bempp.api.assembly.BlockedOperator(2, 2)\n",
    "    \n",
    "    rwg_space_fine = bempp.api.function_space(grid.bogaert_refinement_grid(), \"RWG\", 0)\n",
    "    rwg_space = bempp.api.function_space(grid, \"BG-RWG\", 0)\n",
    "    cw_space = bempp.api.function_space(grid, \"CW\", 0)\n",
    "    rcw_space = bempp.api.function_space(grid, \"RCW\", 0)\n",
    "    snc_space = bempp.api.function_space(grid, \"BG-SNC\", 0)\n",
    "    snc_space_fine = bempp.api.function_space(grid.bogaert_refinement_grid(), \"SNC\", 0)\n",
    "    \n",
    "    efie_fine = bempp.api.operators.boundary.maxwell.electric_field(rwg_space_fine, rwg_space_fine,\n",
    "                                                                      snc_space_fine, k_int)\n",
    "    mfie_fine = bempp.api.operators.boundary.maxwell.magnetic_field(rwg_space_fine, rwg_space_fine, \n",
    "                                                                      snc_space_fine, k_int)\n",
    "    \n",
    "    multitrace[0, 0] = bempp.api.space.project_operator(mfie_fine, rwg_space, rwg_space, rcw_space)\n",
    "    multitrace[0, 1] = (mu_int / k_int) * bempp.api.space.project_operator(efie_fine, cw_space, rwg_space, rcw_space)\n",
    "    multitrace[1, 0] = -(k_int / mu_int) * bempp.api.space.project_operator(efie_fine, rwg_space, cw_space, snc_space)\n",
    "    multitrace[1, 1] = bempp.api.space.project_operator(mfie_fine, cw_space, cw_space, snc_space)\n",
    "\n",
    "    identity[0, 0] = bempp.api.operators.boundary.sparse.identity(rwg_space, rwg_space, rcw_space)\n",
    "    identity[1, 1] = bempp.api.operators.boundary.sparse.identity(cw_space, cw_space, snc_space)\n",
    "    \n",
    "    calderon = 0.5 * identity + multitrace\n",
    "    \n",
    "    electric_trace = bempp.api.GridFunction(space=calderon.domain_spaces[0], fun=plane_wave_e, \n",
    "                                        dual_space=calderon.dual_to_range_spaces[0])\n",
    "\n",
    "    magnetic_trace = (k_ext/mu_ext) * bempp.api.GridFunction(space=calderon.domain_spaces[1], fun=plane_wave_m,\n",
    "                                        dual_space=calderon.dual_to_range_spaces[1])\n",
    "    \n",
    "    \n",
    "    traces_1 = calderon * [electric_trace, magnetic_trace]\n",
    "    traces_2 = calderon * traces_1\n",
    "    \n",
    "    electric_error = (traces_2[0] - traces_1[0]).l2_norm() / traces_1[0].l2_norm()\n",
    "    magnetic_error = (traces_2[1] - traces_1[1]).l2_norm() / traces_1[1].l2_norm()\n",
    "    \n",
    "    e_error.append(electric_error)\n",
    "    m_error.append(magnetic_error)\n",
    "    \n",
    "    print('Mesh size: {0}'.format(h))\n",
    "    print(\"Electric error is \", electric_error)\n",
    "    print(\"Magnetic error is \", magnetic_error)\n",
    "    "
   ]
  },
  {
   "cell_type": "code",
   "execution_count": 9,
   "metadata": {},
   "outputs": [
    {
     "name": "stdout",
     "output_type": "stream",
     "text": [
      "Order of electric error: 0.03090986784180004\n",
      "Order of magnetic error: -1.475879396778268\n"
     ]
    }
   ],
   "source": [
    "slope_e, intercept_e = np.polyfit(np.log(hvec), np.log(e_error), 1)\n",
    "slope_m, intercept_m = np.polyfit(np.log(hvec), np.log(m_error), 1)\n",
    "\n",
    "print(\"Order of electric error: {0}\".format(slope_e))\n",
    "print(\"Order of magnetic error: {0}\".format(slope_m))"
   ]
  },
  {
   "cell_type": "code",
   "execution_count": 10,
   "metadata": {},
   "outputs": [],
   "source": [
    "y_e = intercept_e + slope_e * np.log(hvec)\n",
    "y_m = intercept_m + slope_m * np.log(hvec)"
   ]
  },
  {
   "cell_type": "code",
   "execution_count": 11,
   "metadata": {},
   "outputs": [
    {
     "data": {
      "image/png": "[encoded data removed]",
      "text/plain": [
       "<matplotlib.figure.Figure at 0x7f53585504e0>"
      ]
     },
     "metadata": {},
     "output_type": "display_data"
    }
   ],
   "source": [
    "%matplotlib inline\n",
    "from matplotlib import pyplot as plt\n",
    "\n",
    "params = {'legend.fontsize': 'x-large',\n",
    "         'axes.labelsize': 'x-large',\n",
    "         'axes.titlesize':'x-large',\n",
    "         'xtick.labelsize':'x-large',\n",
    "         'ytick.labelsize':'x-large'}\n",
    "plt.rcParams.update(params)\n",
    "\n",
    "plt.figure(figsize=(9,7))\n",
    "plt.loglog(hvec, e_error, 'b.-', markersize=10)\n",
    "plt.loglog(hvec, m_error, 'r.-', markersize=10)\n",
    "plt.loglog(hvec, np.exp(y_e), 'b--', markersize = 10)\n",
    "plt.loglog(hvec, np.exp(y_m), 'r--', markersize = 10)\n",
    "plt.legend([\"electric error\", \"magnetic error\"],fontsize = 16)\n",
    "\n",
    "plt.xlabel('h', fontsize = 16)\n",
    "plt.ylabel('relative error', fontsize = 16)\n",
    "plt.show()\n",
    "\n",
    "\n"
   ]
  },
  {
   "cell_type": "code",
   "execution_count": null,
   "metadata": {
    "collapsed": true
   },
   "outputs": [],
   "source": []
  }
 ],
 "metadata": {
  "kernelspec": {
   "display_name": "Python 3",
   "language": "python",
   "name": "python3"
  }
 },
 "nbformat": 4,
 "nbformat_minor": 2
}
