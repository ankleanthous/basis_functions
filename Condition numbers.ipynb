{
 "cells": [
  {
   "cell_type": "markdown",
   "metadata": {},
   "source": [
    "In this notebook I am computing the condition numbers of mass matrices produced by BEM++"
   ]
  },
  {
   "cell_type": "code",
   "execution_count": 1,
   "metadata": {
    "collapsed": true
   },
   "outputs": [],
   "source": [
    "import bempp.api\n",
    "import numpy as np"
   ]
  },
  {
   "cell_type": "code",
   "execution_count": 2,
   "metadata": {
    "collapsed": true
   },
   "outputs": [],
   "source": [
    "grid = bempp.api.shapes.cube(h=0.1)\n",
    "\n",
    "b_rwg_space = bempp.api.function_space(grid, \"B-RWG\", 0) #barycentric\n",
    "bg_rwg_space = bempp.api.function_space(grid, \"BG-RWG\", 0) #bogaert refinement\n",
    "b_snc_space = bempp.api.function_space(grid, \"B-SNC\", 0) #barycentric\n",
    "bg_snc_space = bempp.api.function_space(grid, \"BG-SNC\", 0) #bogaert refinement\n",
    "\n",
    "rbc_space = bempp.api.function_space(grid, \"RBC\", 0)\n",
    "rcw_space = bempp.api.function_space(grid, \"RCW\", 0)\n",
    "mrcw_space = bempp.api.function_space(grid, \"MRCW\", 0)\n"
   ]
  },
  {
   "cell_type": "markdown",
   "metadata": {},
   "source": [
    "First I am comparing RWG/SNC with RWG/RBC and RWG/RCW mass matrices (on the barycentric grid)"
   ]
  },
  {
   "cell_type": "code",
   "execution_count": 3,
   "metadata": {
    "collapsed": true
   },
   "outputs": [],
   "source": [
    "id1 = bempp.api.operators.boundary.sparse.identity(b_rwg_space, b_rwg_space, b_snc_space).weak_form()\n",
    "id2 = bempp.api.operators.boundary.sparse.identity(b_rwg_space, b_rwg_space, rbc_space).weak_form()\n",
    "id3 = bempp.api.operators.boundary.sparse.identity(b_rwg_space, b_rwg_space, rcw_space).weak_form()"
   ]
  },
  {
   "cell_type": "code",
   "execution_count": 4,
   "metadata": {},
   "outputs": [
    {
     "name": "stdout",
     "output_type": "stream",
     "text": [
      "9.79079553711e+18\n",
      "3.39411322134\n",
      "9.25364331694\n"
     ]
    }
   ],
   "source": [
    "print(np.linalg.cond(bempp.api.as_matrix(id1).todense()))\n",
    "print(np.linalg.cond(bempp.api.as_matrix(id2).todense()))\n",
    "print(np.linalg.cond(bempp.api.as_matrix(id3).todense()))"
   ]
  },
  {
   "cell_type": "markdown",
   "metadata": {},
   "source": [
    "Then RWG/SNC and RWG/MRCW mass matrices (on the Bogaert refined grid)"
   ]
  },
  {
   "cell_type": "code",
   "execution_count": 5,
   "metadata": {
    "collapsed": true
   },
   "outputs": [],
   "source": [
    "id4 = bempp.api.operators.boundary.sparse.identity(bg_rwg_space, bg_rwg_space, bg_snc_space).weak_form()\n",
    "id5 = bempp.api.operators.boundary.sparse.identity(bg_rwg_space, bg_rwg_space, mrcw_space).weak_form()"
   ]
  },
  {
   "cell_type": "code",
   "execution_count": 6,
   "metadata": {},
   "outputs": [
    {
     "name": "stdout",
     "output_type": "stream",
     "text": [
      "5.05102738356e+18\n",
      "9.2205551347\n"
     ]
    }
   ],
   "source": [
    "print(np.linalg.cond(bempp.api.as_matrix(id4).todense()))\n",
    "print(np.linalg.cond(bempp.api.as_matrix(id5).todense()))"
   ]
  },
  {
   "cell_type": "code",
   "execution_count": null,
   "metadata": {
    "collapsed": true
   },
   "outputs": [],
   "source": []
  }
 ],
 "metadata": {
  "kernelspec": {
   "display_name": "Python 3",
   "language": "python",
   "name": "python3"
  },
  "language_info": {
   "codemirror_mode": {
    "name": "ipython",
    "version": 3
   },
   "file_extension": ".py",
   "mimetype": "text/x-python",
   "name": "python",
   "nbconvert_exporter": "python",
   "pygments_lexer": "ipython3",
   "version": "3.6.3"
  }
 },
 "nbformat": 4,
 "nbformat_minor": 2
}
