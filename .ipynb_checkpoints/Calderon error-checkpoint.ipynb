{
 "cells": [
  {
   "cell_type": "code",
   "execution_count": null,
   "metadata": {
    "collapsed": true
   },
   "outputs": [],
   "source": [
    "import bempp.api\n",
    "import numpy as np\n",
    "\n",
    "bempp.api.global_parameters.assembly.boundary_operator_assembly_type = 'dense'"
   ]
  },
  {
   "cell_type": "code",
   "execution_count": null,
   "metadata": {
    "collapsed": true
   },
   "outputs": [],
   "source": [
    "hvec = np.linspace(0.08, 0.2, 15)\n",
    "\n",
    "k_ext = 1.5\n",
    "k_int = 2\n",
    "mu_int = 1\n",
    "mu_ext = 1"
   ]
  },
  {
   "cell_type": "code",
   "execution_count": null,
   "metadata": {
    "collapsed": true
   },
   "outputs": [],
   "source": [
    "e_error = []\n",
    "m_error = []"
   ]
  },
  {
   "cell_type": "code",
   "execution_count": null,
   "metadata": {
    "collapsed": true
   },
   "outputs": [],
   "source": [
    "def plane_wave_e(x, n, d, res):\n",
    "    val =  np.array([np.exp(1j * k_ext * x[2]), 0, 0])\n",
    "    res[:] = np.cross(val, n)\n",
    "    \n",
    "def plane_wave_m(x, n, d, res):\n",
    "    val = np.array([0, 1., 0]) * np.exp(1j * k_ext * x[2])\n",
    "    res[:] = np.cross(val, n)"
   ]
  },
  {
   "cell_type": "markdown",
   "metadata": {},
   "source": [
    "## Testing with the BC spaces with the discretization as described in "
   ]
  },
  {
   "cell_type": "code",
   "execution_count": null,
   "metadata": {},
   "outputs": [],
   "source": [
    "for h in hvec:\n",
    "    grid = bempp.api.shapes.cube(h=h)\n",
    "    multitrace = bempp.api.operators.boundary.maxwell.multitrace_operator(grid, k_int)\n",
    "    identity = bempp.api.operators.boundary.sparse.multitrace_identity(grid, spaces='maxwell')\n",
    "    \n",
    "    \n",
    "    scaling_interior_1 = bempp.api.operators.boundary.sparse.multitrace_identity(grid, spaces = \"maxwell\")\n",
    "    scaling_interior_2 = bempp.api.operators.boundary.sparse.multitrace_identity(grid, spaces = \"maxwell\")\n",
    "\n",
    "    scaling_interior_1[1,1] = (k_int / mu_int) * scaling_interior_1[1,1]\n",
    "    scaling_interior_2[1,1] = (mu_int / k_int) * scaling_interior_2[1,1]\n",
    "    \n",
    "    multitrace_scaled = scaling_interior_1 * multitrace * scaling_interior_2\n",
    "    \n",
    "    calderon = 0.5 * identity + multitrace_scaled\n",
    "    \n",
    "    electric_trace = bempp.api.GridFunction(space=calderon.domain_spaces[0], fun=plane_wave_e, \n",
    "                                        dual_space=calderon.dual_to_range_spaces[0])\n",
    "\n",
    "    magnetic_trace = (k_ext/mu_ext) * bempp.api.GridFunction(space=calderon.domain_spaces[1], fun=plane_wave_m,\n",
    "                                        dual_space=calderon.dual_to_range_spaces[1])\n",
    "    \n",
    "    \n",
    "    traces_1 = calderon * [electric_trace, magnetic_trace]\n",
    "    traces_2 = calderon * traces_1\n",
    "    \n",
    "    electric_error = (traces_2[0] - traces_1[0]).l2_norm() / traces_1[0].l2_norm()\n",
    "    magnetic_error = (traces_2[1] - traces_1[1]).l2_norm() / traces_1[1].l2_norm()\n",
    "    \n",
    "    e_error.append(electric_error)\n",
    "    m_error.append(magnetic_error)\n",
    "    \n",
    "    print('Mesh size: {0}'.format(h))\n",
    "    print(\"Electric error is \", electric_error)\n",
    "    print(\"Magnetic error is \", magnetic_error)\n",
    "    "
   ]
  },
  {
   "cell_type": "code",
   "execution_count": null,
   "metadata": {},
   "outputs": [],
   "source": [
    "slope_e, intercept_e = np.polyfit(np.log(hvec), np.log(e_error), 1)\n",
    "slope_m, intercept_m = np.polyfit(np.log(hvec), np.log(m_error), 1)\n",
    "\n",
    "print(\"Order of electric error: {0}\".format(slope_e))\n",
    "print(\"Order of magnetic error: {0}\".format(slope_m))"
   ]
  },
  {
   "cell_type": "code",
   "execution_count": null,
   "metadata": {
    "collapsed": true
   },
   "outputs": [],
   "source": [
    "y_e = intercept_e + slope_e * np.log(hvec)\n",
    "y_m = intercept_m + slope_m * np.log(hvec)"
   ]
  },
  {
   "cell_type": "code",
   "execution_count": null,
   "metadata": {},
   "outputs": [],
   "source": [
    "%matplotlib inline\n",
    "from matplotlib import pyplot as plt\n",
    "\n",
    "params = {'legend.fontsize': 'x-large',\n",
    "         'axes.labelsize': 'x-large',\n",
    "         'axes.titlesize':'x-large',\n",
    "         'xtick.labelsize':'x-large',\n",
    "         'ytick.labelsize':'x-large'}\n",
    "plt.rcParams.update(params)\n",
    "\n",
    "plt.figure(figsize=(9,7))\n",
    "plt.loglog(hvec, e_error, 'b.-', markersize=10)\n",
    "plt.loglog(hvec, m_error, 'r.-', markersize=10)\n",
    "plt.loglog(hvec, np.exp(y_e), 'b--', markersize = 10)\n",
    "plt.loglog(hvec, np.exp(y_m), 'r--', markersize = 10)\n",
    "plt.legend([\"electric error\", \"magnetic error\"],fontsize = 16)\n",
    "\n",
    "plt.xlabel('h', fontsize = 16)\n",
    "plt.ylabel('relative error', fontsize = 16)\n",
    "plt.show()\n",
    "\n"
   ]
  },
  {
   "cell_type": "markdown",
   "metadata": {},
   "source": [
    "## Testing with CW basis functions on the barycentric grid"
   ]
  },
  {
   "cell_type": "code",
   "execution_count": null,
   "metadata": {},
   "outputs": [],
   "source": [
    "for h in hvec:\n",
    "    grid = bempp.api.shapes.cube(h=h)\n",
    "    multitrace = bempp.api.assembly.BlockedOperator(2, 2)\n",
    "#     identity = bempp.api.operators.boundary.sparse.multitrace_identity(grid, spaces='maxwell')\n",
    "    identity = bempp.api.assembly.BlockedOperator(2, 2)\n",
    "    \n",
    "    rwg_space_fine = bempp.api.function_space(grid.barycentric_grid(), \"RWG\", 0)\n",
    "    rwg_space = bempp.api.function_space(grid, \"B-RWG\", 0)\n",
    "    cw_space = bempp.api.function_space(grid, \"CW\", 0)\n",
    "    rcw_space = bempp.api.function_space(grid, \"RCW\", 0)\n",
    "    snc_space = bempp.api.function_space(grid, \"B-SNC\", 0)\n",
    "    snc_space_fine = bempp.api.function_space(grid.barycentric_grid(), \"SNC\", 0)\n",
    "    \n",
    "    efie_fine = bempp.api.operators.boundary.maxwell.electric_field(rwg_space_fine, rwg_space_fine,\n",
    "                                                                      snc_space_fine, k_int)\n",
    "    mfie_fine = bempp.api.operators.boundary.maxwell.magnetic_field(rwg_space_fine, rwg_space_fine, \n",
    "                                                                      snc_space_fine, k_int)\n",
    "    \n",
    "    multitrace[0, 0] = bempp.api.space.project_operator(mfie_fine, rwg_space, rwg_space, rcw_space)\n",
    "    multitrace[0, 1] = (mu_int / k_int) * bempp.api.space.project_operator(efie_fine, cw_space, rwg_space, rcw_space)\n",
    "    multitrace[1, 0] = -(k_int / mu_int) * bempp.api.space.project_operator(efie_fine, rwg_space, cw_space, snc_space)\n",
    "    multitrace[1, 1] = bempp.api.space.project_operator(mfie_fine, cw_space, cw_space, snc_space)\n",
    "\n",
    "    identity[0, 0] = bempp.api.operators.boundary.sparse.identity(rwg_space, rwg_space, rcw_space)\n",
    "    identity[1, 1] = bempp.api.operators.boundary.sparse.identity(cw_space, cw_space, snc_space)\n",
    "    \n",
    "    calderon = 0.5 * identity + multitrace\n",
    "    \n",
    "    electric_trace = bempp.api.GridFunction(space=calderon.domain_spaces[0], fun=plane_wave_e, \n",
    "                                        dual_space=calderon.dual_to_range_spaces[0])\n",
    "\n",
    "    magnetic_trace = (k_ext/mu_ext) * bempp.api.GridFunction(space=calderon.domain_spaces[1], fun=plane_wave_m,\n",
    "                                        dual_space=calderon.dual_to_range_spaces[1])\n",
    "    \n",
    "    \n",
    "    traces_1 = calderon * [electric_trace, magnetic_trace]\n",
    "    traces_2 = calderon * traces_1\n",
    "    \n",
    "    electric_error = (traces_2[0] - traces_1[0]).l2_norm() / traces_1[0].l2_norm()\n",
    "    magnetic_error = (traces_2[1] - traces_1[1]).l2_norm() / traces_1[1].l2_norm()\n",
    "    \n",
    "    e_error.append(electric_error)\n",
    "    m_error.append(magnetic_error)\n",
    "    \n",
    "    print('Mesh size: {0}'.format(h))\n",
    "    print(\"Electric error is \", electric_error)\n",
    "    print(\"Magnetic error is \", magnetic_error)\n",
    "    "
   ]
  },
  {
   "cell_type": "code",
   "execution_count": null,
   "metadata": {},
   "outputs": [],
   "source": [
    "slope_e, intercept_e = np.polyfit(np.log(hvec), np.log(e_error), 1)\n",
    "slope_m, intercept_m = np.polyfit(np.log(hvec), np.log(m_error), 1)\n",
    "\n",
    "print(\"Order of electric error: {0}\".format(slope_e))\n",
    "print(\"Order of magnetic error: {0}\".format(slope_m))"
   ]
  },
  {
   "cell_type": "code",
   "execution_count": null,
   "metadata": {
    "collapsed": true
   },
   "outputs": [],
   "source": [
    "y_e = intercept_e + slope_e * np.log(hvec)\n",
    "y_m = intercept_m + slope_m * np.log(hvec)"
   ]
  },
  {
   "cell_type": "code",
   "execution_count": null,
   "metadata": {},
   "outputs": [],
   "source": [
    "%matplotlib inline\n",
    "from matplotlib import pyplot as plt\n",
    "\n",
    "params = {'legend.fontsize': 'x-large',\n",
    "         'axes.labelsize': 'x-large',\n",
    "         'axes.titlesize':'x-large',\n",
    "         'xtick.labelsize':'x-large',\n",
    "         'ytick.labelsize':'x-large'}\n",
    "plt.rcParams.update(params)\n",
    "\n",
    "plt.figure(figsize=(9,7))\n",
    "plt.loglog(hvec, e_error, 'b.-', markersize=10)\n",
    "plt.loglog(hvec, m_error, 'r.-', markersize=10)\n",
    "plt.loglog(hvec, np.exp(y_e), 'b--', markersize = 10)\n",
    "plt.loglog(hvec, np.exp(y_m), 'r--', markersize = 10)\n",
    "plt.legend([\"electric error\", \"magnetic error\"],fontsize = 16)\n",
    "\n",
    "plt.xlabel('h', fontsize = 16)\n",
    "plt.ylabel('relative error', fontsize = 16)\n",
    "plt.show()\n",
    "\n",
    "\n"
   ]
  },
  {
   "cell_type": "markdown",
   "metadata": {
    "collapsed": true
   },
   "source": [
    "## Testing with CW coefficients on the Bogaert grid"
   ]
  },
  {
   "cell_type": "code",
   "execution_count": null,
   "metadata": {},
   "outputs": [],
   "source": [
    "for h in hvec:\n",
    "    grid = bempp.api.shapes.cube(h=h)\n",
    "    multitrace = bempp.api.assembly.BlockedOperator(2, 2)\n",
    "    identity = bempp.api.assembly.BlockedOperator(2, 2)\n",
    "    \n",
    "    rwg_space_fine = bempp.api.function_space(grid.bogaert_refinement_grid(), \"RWG\", 0)\n",
    "    rwg_space = bempp.api.function_space(grid, \"BG-RWG\", 0)\n",
    "    mcw_space = bempp.api.function_space(grid, \"MCW\", 0)\n",
    "    mrcw_space = bempp.api.function_space(grid, \"MRCW\", 0)\n",
    "    snc_space = bempp.api.function_space(grid, \"BG-SNC\", 0)\n",
    "    snc_space_fine = bempp.api.function_space(grid.bogaert_refinement_grid(), \"SNC\", 0)\n",
    "    \n",
    "    efie_fine = bempp.api.operators.boundary.maxwell.electric_field(rwg_space_fine, rwg_space_fine,\n",
    "                                                                      snc_space_fine, k_int)\n",
    "    mfie_fine = bempp.api.operators.boundary.maxwell.magnetic_field(rwg_space_fine, rwg_space_fine, \n",
    "                                                                      snc_space_fine, k_int)\n",
    "    \n",
    "    multitrace[0, 0] = bempp.api.space.project_operator(mfie_fine, rwg_space, rwg_space, mrcw_space)\n",
    "    multitrace[0, 1] = (mu_int / k_int) * bempp.api.space.project_operator(efie_fine, mcw_space, rwg_space, mrcw_space)\n",
    "    multitrace[1, 0] = -(k_int / mu_int) * bempp.api.space.project_operator(efie_fine, rwg_space, mcw_space, snc_space)\n",
    "    multitrace[1, 1] = bempp.api.space.project_operator(mfie_fine, mcw_space, mcw_space, snc_space)\n",
    "\n",
    "    identity[0, 0] = bempp.api.operators.boundary.sparse.identity(rwg_space, rwg_space, mrcw_space)\n",
    "    identity[1, 1] = bempp.api.operators.boundary.sparse.identity(mcw_space, mcw_space, snc_space)\n",
    "    \n",
    "    calderon = 0.5 * identity + multitrace\n",
    "    \n",
    "    electric_trace = bempp.api.GridFunction(space=calderon.domain_spaces[0], fun=plane_wave_e, \n",
    "                                        dual_space=calderon.dual_to_range_spaces[0])\n",
    "\n",
    "    magnetic_trace = (k_ext/mu_ext) * bempp.api.GridFunction(space=calderon.domain_spaces[1], fun=plane_wave_m,\n",
    "                                        dual_space=calderon.dual_to_range_spaces[1])\n",
    "    \n",
    "    \n",
    "    traces_1 = calderon * [electric_trace, magnetic_trace]\n",
    "    traces_2 = calderon * traces_1\n",
    "    \n",
    "    electric_error = (traces_2[0] - traces_1[0]).l2_norm() / traces_1[0].l2_norm()\n",
    "    magnetic_error = (traces_2[1] - traces_1[1]).l2_norm() / traces_1[1].l2_norm()\n",
    "    \n",
    "    e_error.append(electric_error)\n",
    "    m_error.append(magnetic_error)\n",
    "    \n",
    "    print('Mesh size: {0}'.format(h))\n",
    "    print(\"Electric error is \", electric_error)\n",
    "    print(\"Magnetic error is \", magnetic_error)\n",
    "    "
   ]
  },
  {
   "cell_type": "code",
   "execution_count": null,
   "metadata": {},
   "outputs": [],
   "source": [
    "slope_e, intercept_e = np.polyfit(np.log(hvec), np.log(e_error), 1)\n",
    "slope_m, intercept_m = np.polyfit(np.log(hvec), np.log(m_error), 1)\n",
    "\n",
    "print(\"Order of electric error: {0}\".format(slope_e))\n",
    "print(\"Order of magnetic error: {0}\".format(slope_m))"
   ]
  },
  {
   "cell_type": "code",
   "execution_count": null,
   "metadata": {
    "collapsed": true
   },
   "outputs": [],
   "source": [
    "y_e = intercept_e + slope_e * np.log(hvec)\n",
    "y_m = intercept_m + slope_m * np.log(hvec)"
   ]
  },
  {
   "cell_type": "code",
   "execution_count": null,
   "metadata": {},
   "outputs": [],
   "source": [
    "%matplotlib inline\n",
    "from matplotlib import pyplot as plt\n",
    "\n",
    "params = {'legend.fontsize': 'x-large',\n",
    "         'axes.labelsize': 'x-large',\n",
    "         'axes.titlesize':'x-large',\n",
    "         'xtick.labelsize':'x-large',\n",
    "         'ytick.labelsize':'x-large'}\n",
    "plt.rcParams.update(params)\n",
    "\n",
    "plt.figure(figsize=(9,7))\n",
    "plt.loglog(hvec, e_error, 'b.-', markersize=10)\n",
    "plt.loglog(hvec, m_error, 'r.-', markersize=10)\n",
    "plt.loglog(hvec, np.exp(y_e), 'b--', markersize = 10)\n",
    "plt.loglog(hvec, np.exp(y_m), 'r--', markersize = 10)\n",
    "plt.legend([\"electric error\", \"magnetic error\"],fontsize = 16)\n",
    "\n",
    "plt.xlabel('h', fontsize = 16)\n",
    "plt.ylabel('relative error', fontsize = 16)\n",
    "plt.show()"
   ]
  },
  {
   "cell_type": "code",
   "execution_count": null,
   "metadata": {
    "collapsed": true
   },
   "outputs": [],
   "source": []
  }
 ],
 "metadata": {
  "kernelspec": {
   "display_name": "Python 3",
   "language": "python",
   "name": "python3"
  },
  "language_info": {
   "codemirror_mode": {
    "name": "ipython",
    "version": 3
   },
   "file_extension": ".py",
   "mimetype": "text/x-python",
   "name": "python",
   "nbconvert_exporter": "python",
   "pygments_lexer": "ipython3",
   "version": "3.6.3"
  }
 },
 "nbformat": 4,
 "nbformat_minor": 2
}
