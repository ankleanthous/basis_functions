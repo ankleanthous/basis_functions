{
 "cells": [
  {
   "cell_type": "code",
   "execution_count": 1,
   "metadata": {
    "collapsed": true
   },
   "outputs": [],
   "source": [
    "import bempp.api\n",
    "import numpy as np\n",
    "\n",
    "bempp.api.global_parameters.assembly.boundary_operator_assembly_type = 'dense'"
   ]
  },
  {
   "cell_type": "code",
   "execution_count": 5,
   "metadata": {
    "collapsed": true
   },
   "outputs": [],
   "source": [
    "hvec = np.linspace(0.1, 0.5, 20)\n",
    "\n",
    "k_ext = 1.5\n",
    "k_int = 2\n",
    "mu_int = 1\n",
    "mu_ext = 1"
   ]
  },
  {
   "cell_type": "code",
   "execution_count": 3,
   "metadata": {
    "collapsed": true
   },
   "outputs": [],
   "source": [
    "e_error = []\n",
    "m_error = []"
   ]
  },
  {
   "cell_type": "code",
   "execution_count": 4,
   "metadata": {
    "collapsed": true
   },
   "outputs": [],
   "source": [
    "def plane_wave_e(x, n, d, res):\n",
    "    val =  np.array([np.exp(1j * k_ext * x[2]), 0, 0])\n",
    "    res[:] = np.cross(val, n)\n",
    "    \n",
    "def plane_wave_m(x, n, d, res):\n",
    "    val = np.array([0, 1., 0]) * np.exp(1j * k_ext * x[2])\n",
    "    res[:] = np.cross(val, n)"
   ]
  },
  {
   "cell_type": "markdown",
   "metadata": {},
   "source": [
    "## Testing with the BC spaces with the discretization as described in http://www.sciencedirect.com/science/article/pii/S0898122117304789?via%3Dihub"
   ]
  },
  {
   "cell_type": "code",
   "execution_count": 5,
   "metadata": {},
   "outputs": [
    {
     "name": "stdout",
     "output_type": "stream",
     "text": [
      "Mesh size: 0.08\n",
      "Electric error is  0.00307880706806\n",
      "Magnetic error is  0.00166962302639\n",
      "Mesh size: 0.08857142857142858\n",
      "Electric error is  0.00298210001828\n",
      "Magnetic error is  0.00161858248843\n",
      "Mesh size: 0.09714285714285714\n",
      "Electric error is  0.00332192362141\n",
      "Magnetic error is  0.00166083149388\n",
      "Mesh size: 0.10571428571428572\n",
      "Electric error is  0.00330807697996\n",
      "Magnetic error is  0.00176123662838\n",
      "Mesh size: 0.1142857142857143\n",
      "Electric error is  0.00338901781363\n",
      "Magnetic error is  0.00192981233721\n",
      "Mesh size: 0.12285714285714286\n",
      "Electric error is  0.0033904959932\n",
      "Magnetic error is  0.00192959802451\n",
      "Mesh size: 0.13142857142857145\n",
      "Electric error is  0.00417509477585\n",
      "Magnetic error is  0.00210311094188\n",
      "Mesh size: 0.14\n",
      "Electric error is  0.00424144235401\n",
      "Magnetic error is  0.00207224869082\n",
      "Mesh size: 0.14857142857142858\n",
      "Electric error is  0.00395850784743\n",
      "Magnetic error is  0.00194652598528\n",
      "Mesh size: 0.15714285714285714\n",
      "Electric error is  0.00392561948029\n",
      "Magnetic error is  0.00195563872977\n",
      "Mesh size: 0.1657142857142857\n",
      "Electric error is  0.00395516882486\n",
      "Magnetic error is  0.00193302876722\n",
      "Mesh size: 0.1742857142857143\n",
      "Electric error is  0.00411044000308\n",
      "Magnetic error is  0.00225397193708\n",
      "Mesh size: 0.18285714285714288\n",
      "Electric error is  0.00405531499331\n",
      "Magnetic error is  0.00222988442254\n",
      "Mesh size: 0.19142857142857145\n",
      "Electric error is  0.00412659533288\n",
      "Magnetic error is  0.00224699789189\n",
      "Mesh size: 0.2\n",
      "Electric error is  0.0048321938991\n",
      "Magnetic error is  0.00263359122774\n"
     ]
    }
   ],
   "source": [
    "for h in hvec:\n",
    "    grid = bempp.api.shapes.cube(h=h)\n",
    "    multitrace = bempp.api.operators.boundary.maxwell.multitrace_operator(grid, k_int)\n",
    "    identity = bempp.api.operators.boundary.sparse.multitrace_identity(grid, spaces='maxwell')\n",
    "    \n",
    "    \n",
    "    scaling_interior_1 = bempp.api.operators.boundary.sparse.multitrace_identity(grid, spaces = \"maxwell\")\n",
    "    scaling_interior_2 = bempp.api.operators.boundary.sparse.multitrace_identity(grid, spaces = \"maxwell\")\n",
    "\n",
    "    scaling_interior_1[1,1] = (k_int / mu_int) * scaling_interior_1[1,1]\n",
    "    scaling_interior_2[1,1] = (mu_int / k_int) * scaling_interior_2[1,1]\n",
    "    \n",
    "    multitrace_scaled = scaling_interior_1 * multitrace * scaling_interior_2\n",
    "    \n",
    "    calderon = 0.5 * identity + multitrace_scaled\n",
    "    \n",
    "    electric_trace = bempp.api.GridFunction(space=calderon.domain_spaces[0], fun=plane_wave_e, \n",
    "                                        dual_space=calderon.dual_to_range_spaces[0])\n",
    "\n",
    "    magnetic_trace = (k_ext/mu_ext) * bempp.api.GridFunction(space=calderon.domain_spaces[1], fun=plane_wave_m,\n",
    "                                        dual_space=calderon.dual_to_range_spaces[1])\n",
    "    \n",
    "    \n",
    "    traces_1 = calderon * [electric_trace, magnetic_trace]\n",
    "    traces_2 = calderon * traces_1\n",
    "    \n",
    "    electric_error = (traces_2[0] - traces_1[0]).l2_norm() / traces_1[0].l2_norm()\n",
    "    magnetic_error = (traces_2[1] - traces_1[1]).l2_norm() / traces_1[1].l2_norm()\n",
    "    \n",
    "    e_error.append(electric_error)\n",
    "    m_error.append(magnetic_error)\n",
    "    \n",
    "    print('Mesh size: {0}'.format(h))\n",
    "    print(\"Electric error is \", electric_error)\n",
    "    print(\"Magnetic error is \", magnetic_error)\n",
    "    "
   ]
  },
  {
   "cell_type": "code",
   "execution_count": 6,
   "metadata": {},
   "outputs": [
    {
     "name": "stdout",
     "output_type": "stream",
     "text": [
      "Order of electric error: 0.43013251208423814\n",
      "Order of magnetic error: 0.41536733696619843\n"
     ]
    }
   ],
   "source": [
    "slope_e, intercept_e = np.polyfit(np.log(hvec), np.log(e_error), 1)\n",
    "slope_m, intercept_m = np.polyfit(np.log(hvec), np.log(m_error), 1)\n",
    "\n",
    "print(\"Order of electric error: {0}\".format(slope_e))\n",
    "print(\"Order of magnetic error: {0}\".format(slope_m))"
   ]
  },
  {
   "cell_type": "code",
   "execution_count": 7,
   "metadata": {
    "collapsed": true
   },
   "outputs": [],
   "source": [
    "y_e = intercept_e + slope_e * np.log(hvec)\n",
    "y_m = intercept_m + slope_m * np.log(hvec)"
   ]
  },
  {
   "cell_type": "code",
   "execution_count": null,
   "metadata": {},
   "outputs": [
    {
     "data": {
      "image/png": "[encoded data removed]",
      "text/plain": [
       "<matplotlib.figure.Figure at 0x7fc9a502ed68>"
      ]
     },
     "metadata": {},
     "output_type": "display_data"
    }
   ],
   "source": [
    "%matplotlib inline\n",
    "from matplotlib import pyplot as plt\n",
    "\n",
    "params = {'legend.fontsize': 'x-large',\n",
    "         'axes.labelsize': 'x-large',\n",
    "         'axes.titlesize':'x-large',\n",
    "         'xtick.labelsize':'x-large',\n",
    "         'ytick.labelsize':'x-large'}\n",
    "plt.rcParams.update(params)\n",
    "\n",
    "plt.figure(figsize=(9,7))\n",
    "plt.loglog(hvec, e_error, 'b.-', markersize=10)\n",
    "plt.loglog(hvec, m_error, 'r.-', markersize=10)\n",
    "plt.loglog(hvec, np.exp(y_e), 'b--', markersize = 10)\n",
    "plt.loglog(hvec, np.exp(y_m), 'r--', markersize = 10)\n",
    "plt.legend([\"electric error\", \"magnetic error\"],fontsize = 16)\n",
    "\n",
    "plt.xlabel('h', fontsize = 16)\n",
    "plt.ylabel('relative error', fontsize = 16)\n",
    "plt.show()\n",
    "\n"
   ]
  },
  {
   "cell_type": "markdown",
   "metadata": {},
   "source": [
    "## Testing with CW basis functions on the barycentric grid"
   ]
  },
  {
   "cell_type": "code",
   "execution_count": 5,
   "metadata": {
    "collapsed": true
   },
   "outputs": [],
   "source": [
    "e_error = []\n",
    "m_error = []"
   ]
  },
  {
   "cell_type": "code",
   "execution_count": 6,
   "metadata": {},
   "outputs": [
    {
     "name": "stdout",
     "output_type": "stream",
     "text": [
      "Mesh size: 0.1\n",
      "Electric error is  0.747318573385\n",
      "Magnetic error is  117.770739946\n",
      "Mesh size: 0.12105263157894737\n",
      "Electric error is  0.74316525612\n",
      "Magnetic error is  95.128361867\n",
      "Mesh size: 0.14210526315789473\n",
      "Electric error is  0.709910347309\n",
      "Magnetic error is  86.7225889499\n",
      "Mesh size: 0.1631578947368421\n",
      "Electric error is  0.731693216326\n",
      "Magnetic error is  61.4821305621\n",
      "Mesh size: 0.1842105263157895\n",
      "Electric error is  0.698739709126\n",
      "Magnetic error is  53.8182600364\n",
      "Mesh size: 0.20526315789473684\n",
      "Electric error is  0.672275130749\n",
      "Magnetic error is  43.7200312747\n",
      "Mesh size: 0.22631578947368422\n",
      "Electric error is  0.679127572774\n",
      "Magnetic error is  43.639762986\n",
      "Mesh size: 0.24736842105263157\n",
      "Electric error is  0.674654687954\n",
      "Magnetic error is  43.6026215688\n",
      "Mesh size: 0.26842105263157895\n",
      "Electric error is  0.654147852645\n",
      "Magnetic error is  33.372803084\n",
      "Mesh size: 0.2894736842105263\n",
      "Electric error is  0.654147852645\n",
      "Magnetic error is  33.372803084\n",
      "Mesh size: 0.31052631578947365\n",
      "Electric error is  0.65943524734\n",
      "Magnetic error is  33.1295730271\n",
      "Mesh size: 0.3315789473684211\n",
      "Electric error is  0.65943524734\n",
      "Magnetic error is  33.1295730271\n",
      "Mesh size: 0.3526315789473684\n",
      "Electric error is  0.606577612623\n",
      "Magnetic error is  23.6689997398\n",
      "Mesh size: 0.37368421052631584\n",
      "Electric error is  0.610009347393\n",
      "Magnetic error is  23.783786078\n",
      "Mesh size: 0.39473684210526316\n",
      "Electric error is  0.632139869865\n",
      "Magnetic error is  21.9550275515\n",
      "Mesh size: 0.4157894736842105\n",
      "Electric error is  0.637224861985\n",
      "Magnetic error is  21.8932638144\n",
      "Mesh size: 0.4368421052631579\n",
      "Electric error is  0.606577612623\n",
      "Magnetic error is  23.6689997398\n",
      "Mesh size: 0.45789473684210524\n",
      "Electric error is  0.632139869865\n",
      "Magnetic error is  21.9550275515\n",
      "Mesh size: 0.4789473684210527\n",
      "Electric error is  0.632139869865\n",
      "Magnetic error is  21.9550275515\n",
      "Mesh size: 0.5\n",
      "Electric error is  0.584240941011\n",
      "Magnetic error is  17.7013811536\n"
     ]
    }
   ],
   "source": [
    "for h in hvec:\n",
    "    grid = bempp.api.shapes.cube(h=h)\n",
    "    multitrace = bempp.api.assembly.BlockedOperator(2, 2)\n",
    "    identity = bempp.api.assembly.BlockedOperator(2, 2)\n",
    "    \n",
    "    rwg_space_fine = bempp.api.function_space(grid.barycentric_grid(), \"RWG\", 0)\n",
    "    rwg_space = bempp.api.function_space(grid, \"B-RWG\", 0)\n",
    "    cw_space = bempp.api.function_space(grid, \"CW\", 0)\n",
    "    rcw_space = bempp.api.function_space(grid, \"RCW\", 0)\n",
    "    snc_space = bempp.api.function_space(grid, \"B-SNC\", 0)\n",
    "    snc_space_fine = bempp.api.function_space(grid.barycentric_grid(), \"SNC\", 0)\n",
    "    \n",
    "    efie_fine = bempp.api.operators.boundary.maxwell.electric_field(rwg_space_fine, rwg_space_fine,\n",
    "                                                                      snc_space_fine, k_int)\n",
    "    mfie_fine = bempp.api.operators.boundary.maxwell.magnetic_field(rwg_space_fine, rwg_space_fine, \n",
    "                                                                      snc_space_fine, k_int)\n",
    "    \n",
    "    multitrace[0, 0] = bempp.api.space.project_operator(mfie_fine, rwg_space, rwg_space, rcw_space)\n",
    "    multitrace[0, 1] = (mu_int / k_int) * bempp.api.space.project_operator(efie_fine, cw_space, rwg_space, rcw_space)\n",
    "    multitrace[1, 0] = -(k_int / mu_int) * bempp.api.space.project_operator(efie_fine, rwg_space, cw_space, snc_space)\n",
    "    multitrace[1, 1] = bempp.api.space.project_operator(mfie_fine, cw_space, cw_space, snc_space)\n",
    "\n",
    "    identity[0, 0] = bempp.api.operators.boundary.sparse.identity(rwg_space, rwg_space, rcw_space)\n",
    "    identity[1, 1] = bempp.api.operators.boundary.sparse.identity(cw_space, cw_space, snc_space)\n",
    "    \n",
    "    calderon = 0.5 * identity + multitrace\n",
    "    \n",
    "    electric_trace = bempp.api.GridFunction(space=calderon.domain_spaces[0], fun=plane_wave_e, \n",
    "                                        dual_space=calderon.dual_to_range_spaces[0])\n",
    "\n",
    "    magnetic_trace = (k_ext/mu_ext) * bempp.api.GridFunction(space=calderon.domain_spaces[1], fun=plane_wave_m,\n",
    "                                        dual_space=calderon.dual_to_range_spaces[1])\n",
    "    \n",
    "    \n",
    "    traces_1 = calderon * [electric_trace, magnetic_trace]\n",
    "    traces_2 = calderon * traces_1\n",
    "    \n",
    "    electric_error = (traces_2[0] - traces_1[0]).l2_norm() / traces_1[0].l2_norm()\n",
    "    magnetic_error = (traces_2[1] - traces_1[1]).l2_norm() / traces_1[1].l2_norm()\n",
    "    \n",
    "    e_error.append(electric_error)\n",
    "    m_error.append(magnetic_error)\n",
    "    \n",
    "    print('Mesh size: {0}'.format(h))\n",
    "    print(\"Electric error is \", electric_error)\n",
    "    print(\"Magnetic error is \", magnetic_error)\n",
    "    "
   ]
  },
  {
   "cell_type": "code",
   "execution_count": 7,
   "metadata": {},
   "outputs": [
    {
     "name": "stdout",
     "output_type": "stream",
     "text": [
      "Order of electric error: -0.13682884638313514\n",
      "Order of magnetic error: -1.1309687027672846\n"
     ]
    }
   ],
   "source": [
    "slope_e, intercept_e = np.polyfit(np.log(hvec), np.log(e_error), 1)\n",
    "slope_m, intercept_m = np.polyfit(np.log(hvec), np.log(m_error), 1)\n",
    "\n",
    "print(\"Order of electric error: {0}\".format(slope_e))\n",
    "print(\"Order of magnetic error: {0}\".format(slope_m))"
   ]
  },
  {
   "cell_type": "code",
   "execution_count": 8,
   "metadata": {
    "collapsed": true
   },
   "outputs": [],
   "source": [
    "y_e = intercept_e + slope_e * np.log(hvec)\n",
    "y_m = intercept_m + slope_m * np.log(hvec)"
   ]
  },
  {
   "cell_type": "code",
   "execution_count": 9,
   "metadata": {},
   "outputs": [
    {
     "data": {
      "image/png": "[encoded data removed]",
      "text/plain": [
       "<matplotlib.figure.Figure at 0x7f117cfec710>"
      ]
     },
     "metadata": {},
     "output_type": "display_data"
    }
   ],
   "source": [
    "%matplotlib inline\n",
    "from matplotlib import pyplot as plt\n",
    "\n",
    "params = {'legend.fontsize': 'x-large',\n",
    "         'axes.labelsize': 'x-large',\n",
    "         'axes.titlesize':'x-large',\n",
    "         'xtick.labelsize':'x-large',\n",
    "         'ytick.labelsize':'x-large'}\n",
    "plt.rcParams.update(params)\n",
    "\n",
    "plt.figure(figsize=(9,7))\n",
    "plt.loglog(hvec, e_error, 'b.-', markersize=10)\n",
    "plt.loglog(hvec, m_error, 'r.-', markersize=10)\n",
    "plt.loglog(hvec, np.exp(y_e), 'b--', markersize = 10)\n",
    "plt.loglog(hvec, np.exp(y_m), 'r--', markersize = 10)\n",
    "plt.legend([\"electric error\", \"magnetic error\"],fontsize = 16)\n",
    "\n",
    "plt.xlabel('h', fontsize = 16)\n",
    "plt.ylabel('relative error', fontsize = 16)\n",
    "plt.show()\n",
    "\n",
    "\n"
   ]
  },
  {
   "cell_type": "markdown",
   "metadata": {
    "collapsed": true
   },
   "source": [
    "## Testing with CW coefficients on the Bogaert grid"
   ]
  },
  {
   "cell_type": "code",
   "execution_count": 10,
   "metadata": {
    "collapsed": true
   },
   "outputs": [],
   "source": [
    "e_error = []\n",
    "m_error = []"
   ]
  },
  {
   "cell_type": "code",
   "execution_count": 11,
   "metadata": {},
   "outputs": [
    {
     "name": "stdout",
     "output_type": "stream",
     "text": [
      "Mesh size: 0.08\n",
      "Electric error is  0.643285609389\n",
      "Magnetic error is  343.369141115\n",
      "Mesh size: 0.10210526315789474\n",
      "Electric error is  0.628224212587\n",
      "Magnetic error is  228.754825545\n",
      "Mesh size: 0.12421052631578947\n",
      "Electric error is  0.633550267841\n",
      "Magnetic error is  199.365241209\n",
      "Mesh size: 0.1463157894736842\n",
      "Electric error is  0.633602133166\n",
      "Magnetic error is  134.270714382\n",
      "Mesh size: 0.16842105263157894\n",
      "Electric error is  0.64814155083\n",
      "Magnetic error is  104.282259919\n",
      "Mesh size: 0.19052631578947368\n",
      "Electric error is  0.649600535866\n",
      "Magnetic error is  102.832296413\n",
      "Mesh size: 0.2126315789473684\n",
      "Electric error is  0.65810725752\n",
      "Magnetic error is  78.2301149687\n",
      "Mesh size: 0.23473684210526313\n",
      "Electric error is  0.656769312743\n",
      "Magnetic error is  79.6427967849\n",
      "Mesh size: 0.25684210526315787\n",
      "Electric error is  0.672270852963\n",
      "Magnetic error is  55.3548422812\n",
      "Mesh size: 0.2789473684210526\n",
      "Electric error is  0.674753112707\n",
      "Magnetic error is  55.1272546925\n",
      "Mesh size: 0.30105263157894735\n",
      "Electric error is  0.674753112707\n",
      "Magnetic error is  55.1272546925\n",
      "Mesh size: 0.3231578947368421\n",
      "Electric error is  0.672270852963\n",
      "Magnetic error is  55.3548422812\n",
      "Mesh size: 0.3452631578947368\n",
      "Electric error is  0.682884952149\n",
      "Magnetic error is  39.7676804377\n",
      "Mesh size: 0.36736842105263157\n",
      "Electric error is  0.676159249332\n",
      "Magnetic error is  40.7981716388\n",
      "Mesh size: 0.3894736842105263\n",
      "Electric error is  0.675968040666\n",
      "Magnetic error is  40.8182949341\n",
      "Mesh size: 0.41157894736842104\n",
      "Electric error is  0.676159249332\n",
      "Magnetic error is  40.7981716388\n",
      "Mesh size: 0.4336842105263158\n",
      "Electric error is  0.682918405192\n",
      "Magnetic error is  39.8719724288\n",
      "Mesh size: 0.4557894736842105\n",
      "Electric error is  0.682884598546\n",
      "Magnetic error is  39.7523360289\n",
      "Mesh size: 0.47789473684210526\n",
      "Electric error is  0.682884598546\n",
      "Magnetic error is  39.7523360289\n",
      "Mesh size: 0.5\n",
      "Electric error is  0.75132664686\n",
      "Magnetic error is  15.7314548464\n"
     ]
    }
   ],
   "source": [
    "for h in hvec:\n",
    "    grid = bempp.api.shapes.cube(h=h)\n",
    "    multitrace = bempp.api.assembly.BlockedOperator(2, 2)\n",
    "    identity = bempp.api.assembly.BlockedOperator(2, 2)\n",
    "    \n",
    "    rwg_space_fine = bempp.api.function_space(grid.bogaert_refinement_grid(), \"RWG\", 0)\n",
    "    rwg_space = bempp.api.function_space(grid, \"BG-RWG\", 0)\n",
    "    mcw_space = bempp.api.function_space(grid, \"MCW\", 0)\n",
    "    mrcw_space = bempp.api.function_space(grid, \"MRCW\", 0)\n",
    "    snc_space = bempp.api.function_space(grid, \"BG-SNC\", 0)\n",
    "    snc_space_fine = bempp.api.function_space(grid.bogaert_refinement_grid(), \"SNC\", 0)\n",
    "    \n",
    "    efie_fine = bempp.api.operators.boundary.maxwell.electric_field(rwg_space_fine, rwg_space_fine,\n",
    "                                                                      snc_space_fine, k_int)\n",
    "    mfie_fine = bempp.api.operators.boundary.maxwell.magnetic_field(rwg_space_fine, rwg_space_fine, \n",
    "                                                                      snc_space_fine, k_int)\n",
    "    \n",
    "    multitrace[0, 0] = bempp.api.space.project_operator(mfie_fine, rwg_space, rwg_space, mrcw_space)\n",
    "    multitrace[0, 1] = (mu_int / k_int) * bempp.api.space.project_operator(efie_fine, mcw_space, rwg_space, mrcw_space)\n",
    "    multitrace[1, 0] = -(k_int / mu_int) * bempp.api.space.project_operator(efie_fine, rwg_space, mcw_space, snc_space)\n",
    "    multitrace[1, 1] = bempp.api.space.project_operator(mfie_fine, mcw_space, mcw_space, snc_space)\n",
    "\n",
    "    identity[0, 0] = bempp.api.operators.boundary.sparse.identity(multitrace.domain_spaces[0],\n",
    "                                                                  multitrace.range_spaces[0],\n",
    "                                                                  multitrace.dual_to_range_spaces[0])\n",
    "    identity[1, 1] = bempp.api.operators.boundary.sparse.identity(multitrace.domain_spaces[1], \n",
    "                                                                  multitrace.range_spaces[1],\n",
    "                                                                  multitrace.dual_to_range_spaces[1])\n",
    "    calderon = 0.5 * identity + multitrace\n",
    "    \n",
    "    electric_trace = bempp.api.GridFunction(space=calderon.domain_spaces[0], fun=plane_wave_e, \n",
    "                                        dual_space=calderon.dual_to_range_spaces[0])\n",
    "\n",
    "    magnetic_trace = (k_ext/mu_ext) * bempp.api.GridFunction(space=calderon.domain_spaces[1], fun=plane_wave_m,\n",
    "                                        dual_space=calderon.dual_to_range_spaces[1])\n",
    "    \n",
    "    \n",
    "    traces_1 = calderon * [electric_trace, magnetic_trace]\n",
    "    traces_2 = calderon * traces_1\n",
    "    \n",
    "    electric_error = (traces_2[0] - traces_1[0]).l2_norm() / traces_1[0].l2_norm()\n",
    "    magnetic_error = (traces_2[1] - traces_1[1]).l2_norm() / traces_1[1].l2_norm()\n",
    "    \n",
    "    e_error.append(electric_error)\n",
    "    m_error.append(magnetic_error)\n",
    "    \n",
    "    print('Mesh size: {0}'.format(h))\n",
    "    print(\"Electric error is \", electric_error)\n",
    "    print(\"Magnetic error is \", magnetic_error)\n",
    "    "
   ]
  },
  {
   "cell_type": "code",
   "execution_count": 12,
   "metadata": {},
   "outputs": [
    {
     "name": "stdout",
     "output_type": "stream",
     "text": [
      "Order of electric error: 0.06111628779101323\n",
      "Order of magnetic error: -1.3292897340199832\n"
     ]
    }
   ],
   "source": [
    "slope_e, intercept_e = np.polyfit(np.log(hvec), np.log(e_error), 1)\n",
    "slope_m, intercept_m = np.polyfit(np.log(hvec), np.log(m_error), 1)\n",
    "\n",
    "print(\"Order of electric error: {0}\".format(slope_e))\n",
    "print(\"Order of magnetic error: {0}\".format(slope_m))"
   ]
  },
  {
   "cell_type": "code",
   "execution_count": 13,
   "metadata": {
    "collapsed": true
   },
   "outputs": [],
   "source": [
    "y_e = intercept_e + slope_e * np.log(hvec)\n",
    "y_m = intercept_m + slope_m * np.log(hvec)"
   ]
  },
  {
   "cell_type": "code",
   "execution_count": 14,
   "metadata": {},
   "outputs": [
    {
     "data": {
      "image/png": "[encoded data removed]",
      "text/plain": [
       "<matplotlib.figure.Figure at 0x7f11b1c8b240>"
      ]
     },
     "metadata": {},
     "output_type": "display_data"
    }
   ],
   "source": [
    "%matplotlib inline\n",
    "from matplotlib import pyplot as plt\n",
    "\n",
    "params = {'legend.fontsize': 'x-large',\n",
    "         'axes.labelsize': 'x-large',\n",
    "         'axes.titlesize':'x-large',\n",
    "         'xtick.labelsize':'x-large',\n",
    "         'ytick.labelsize':'x-large'}\n",
    "plt.rcParams.update(params)\n",
    "\n",
    "plt.figure(figsize=(9,7))\n",
    "plt.loglog(hvec, e_error, 'b.-', markersize=10)\n",
    "plt.loglog(hvec, m_error, 'r.-', markersize=10)\n",
    "plt.loglog(hvec, np.exp(y_e), 'b--', markersize = 10)\n",
    "plt.loglog(hvec, np.exp(y_m), 'r--', markersize = 10)\n",
    "plt.legend([\"electric error\", \"magnetic error\"],fontsize = 16)\n",
    "\n",
    "plt.xlabel('h', fontsize = 16)\n",
    "plt.ylabel('relative error', fontsize = 16)\n",
    "plt.show()"
   ]
  },
  {
   "cell_type": "code",
   "execution_count": 48,
   "metadata": {
    "collapsed": true
   },
   "outputs": [],
   "source": [
    "h = 0.5"
   ]
  },
  {
   "cell_type": "code",
   "execution_count": 75,
   "metadata": {
    "collapsed": true
   },
   "outputs": [],
   "source": [
    "grid = bempp.api.shapes.cube(h=h)\n",
    "multitrace = bempp.api.assembly.BlockedOperator(2, 2)\n",
    "identity = bempp.api.assembly.BlockedOperator(2, 2)\n",
    "    \n",
    "rwg_space_fine = bempp.api.function_space(grid.bogaert_refinement_grid(), \"RWG\", 0)\n",
    "rwg_space = bempp.api.function_space(grid, \"BG-RWG\", 0)\n",
    "cw_space = bempp.api.function_space(grid, \"MCW\", 0)\n",
    "rcw_space = bempp.api.function_space(grid, \"MRCW\", 0)\n",
    "snc_space = bempp.api.function_space(grid, \"BG-SNC\", 0)\n",
    "snc_space_fine = bempp.api.function_space(grid.bogaert_refinement_grid(), \"SNC\", 0)\n",
    "    \n",
    "efie_fine = bempp.api.operators.boundary.maxwell.electric_field(rwg_space_fine, rwg_space_fine,\n",
    "                                                                      snc_space_fine, k_int)\n",
    "mfie_fine = bempp.api.operators.boundary.maxwell.magnetic_field(rwg_space_fine, rwg_space_fine, \n",
    "                                                                      snc_space_fine, k_int)\n",
    "    \n",
    "multitrace[0, 0] = bempp.api.space.project_operator(mfie_fine, rwg_space, rwg_space, rcw_space)\n",
    "multitrace[0, 1] = (mu_int / k_int) * bempp.api.space.project_operator(efie_fine, cw_space, rwg_space, rcw_space)\n",
    "multitrace[1, 0] = -(k_int / mu_int) * bempp.api.space.project_operator(efie_fine, rwg_space, cw_space, snc_space)\n",
    "multitrace[1, 1] = bempp.api.space.project_operator(mfie_fine, cw_space, cw_space, snc_space)\n",
    "\n"
   ]
  },
  {
   "cell_type": "code",
   "execution_count": 76,
   "metadata": {},
   "outputs": [
    {
     "data": {
      "text/plain": [
       "(<bempp.api.space.space.ModifiedRotatedChenWiltonSpace at 0x7ff6b40f10b8>,\n",
       " <bempp.api.space.space.BogaertSNCSpace at 0x7ff6b40f52b0>)"
      ]
     },
     "execution_count": 76,
     "metadata": {},
     "output_type": "execute_result"
    }
   ],
   "source": [
    "multitrace.dual_to_range_spaces"
   ]
  },
  {
   "cell_type": "code",
   "execution_count": 77,
   "metadata": {},
   "outputs": [
    {
     "name": "stdout",
     "output_type": "stream",
     "text": [
      "Mesh size: 0.5\n",
      "Electric error is  0.75132664686\n",
      "Magnetic error is  15.7314548464\n"
     ]
    }
   ],
   "source": [
    "identity[0, 0] = bempp.api.operators.boundary.sparse.identity(multitrace.domain_spaces[0], multitrace.range_spaces[0],\n",
    "                                                              multitrace.dual_to_range_spaces[0])\n",
    "identity[1, 1] = bempp.api.operators.boundary.sparse.identity(multitrace.domain_spaces[1], multitrace.range_spaces[1],\n",
    "                                                              multitrace.dual_to_range_spaces[1])\n",
    "    \n",
    "calderon = 0.5 * identity + multitrace\n",
    "    \n",
    "electric_trace = bempp.api.GridFunction(space=calderon.domain_spaces[0], fun=plane_wave_e, \n",
    "                                        dual_space=calderon.dual_to_range_spaces[0])\n",
    "\n",
    "magnetic_trace = (k_ext/mu_ext) * bempp.api.GridFunction(space=calderon.domain_spaces[1], fun=plane_wave_m,\n",
    "                                        dual_space=calderon.dual_to_range_spaces[1])\n",
    "    \n",
    "    \n",
    "traces_1 = calderon * [electric_trace, magnetic_trace]\n",
    "traces_2 = calderon * traces_1\n",
    "    \n",
    "electric_error = (traces_2[0] - traces_1[0]).l2_norm() / traces_1[0].l2_norm()\n",
    "magnetic_error = (traces_2[1] - traces_1[1]).l2_norm() / traces_1[1].l2_norm()\n",
    "    \n",
    "e_error.append(electric_error)\n",
    "m_error.append(magnetic_error)\n",
    "    \n",
    "print('Mesh size: {0}'.format(h))\n",
    "print(\"Electric error is \", electric_error)\n",
    "print(\"Magnetic error is \", magnetic_error)"
   ]
  },
  {
   "cell_type": "code",
   "execution_count": 65,
   "metadata": {},
   "outputs": [
    {
     "data": {
      "text/plain": [
       "(<bempp.api.space.space.BogaertRWGSpace at 0x7ff6b4106ac8>,\n",
       " <bempp.api.space.space.ModifiedChenWiltonSpace at 0x7ff6b40def60>)"
      ]
     },
     "execution_count": 65,
     "metadata": {},
     "output_type": "execute_result"
    }
   ],
   "source": [
    "multitrace.domain_spaces"
   ]
  },
  {
   "cell_type": "code",
   "execution_count": 35,
   "metadata": {},
   "outputs": [
    {
     "data": {
      "text/plain": [
       "<bempp.api.space.space.BarycentricSNCSpace at 0x7ff6d429afd0>"
      ]
     },
     "execution_count": 35,
     "metadata": {},
     "output_type": "execute_result"
    }
   ],
   "source": [
    "magnetic_trace.dual_space"
   ]
  },
  {
   "cell_type": "code",
   "execution_count": 79,
   "metadata": {
    "collapsed": true
   },
   "outputs": [],
   "source": [
    "h = 10/(2*np.pi*k_ext)"
   ]
  },
  {
   "cell_type": "code",
   "execution_count": 80,
   "metadata": {},
   "outputs": [
    {
     "data": {
      "text/plain": [
       "1.0610329539459689"
      ]
     },
     "execution_count": 80,
     "metadata": {},
     "output_type": "execute_result"
    }
   ],
   "source": [
    "h"
   ]
  },
  {
   "cell_type": "code",
   "execution_count": null,
   "metadata": {
    "collapsed": true
   },
   "outputs": [],
   "source": []
  }
 ],
 "metadata": {
  "kernelspec": {
   "display_name": "Python 3",
   "language": "python",
   "name": "python3"
  },
  "language_info": {
   "codemirror_mode": {
    "name": "ipython",
    "version": 3
   },
   "file_extension": ".py",
   "mimetype": "text/x-python",
   "name": "python",
   "nbconvert_exporter": "python",
   "pygments_lexer": "ipython3",
   "version": "3.6.3"
  }
 },
 "nbformat": 4,
 "nbformat_minor": 2
}
