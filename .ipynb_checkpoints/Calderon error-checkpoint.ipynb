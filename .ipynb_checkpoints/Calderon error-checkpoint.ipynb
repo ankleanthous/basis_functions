{
 "cells": [
  {
   "cell_type": "code",
   "execution_count": 1,
   "metadata": {
    "collapsed": true
   },
   "outputs": [],
   "source": [
    "import bempp.api\n",
    "import numpy as np\n",
    "\n",
    "bempp.api.global_parameters.assembly.boundary_operator_assembly_type = 'dense'"
   ]
  },
  {
   "cell_type": "code",
   "execution_count": 2,
   "metadata": {
    "collapsed": true
   },
   "outputs": [],
   "source": [
    "hvec = np.linspace(0.08, 0.2, 15)\n",
    "k_ext = 1\n",
    "k = 1.5"
   ]
  },
  {
   "cell_type": "code",
   "execution_count": 3,
   "metadata": {
    "collapsed": true
   },
   "outputs": [],
   "source": [
    "e_error = []\n",
    "m_error = []\n",
    "\n",
    "ep_error = []\n",
    "mp_error = []"
   ]
  },
  {
   "cell_type": "code",
   "execution_count": 4,
   "metadata": {
    "collapsed": true
   },
   "outputs": [],
   "source": [
    "def plane_wave_e(x, n, d, res):\n",
    "    val =  np.array([np.exp(1j * k_ext * x[2]), 0, 0])\n",
    "    res[:] = np.cross(val, n)\n",
    "    \n",
    "def plane_wave_m(x, n, d, res):\n",
    "    val = np.array([0, 1., 0]) * np.exp(1j * k_ext * x[2])\n",
    "    res[:] = np.cross(val, n)"
   ]
  },
  {
   "cell_type": "code",
   "execution_count": 5,
   "metadata": {},
   "outputs": [
    {
     "name": "stdout",
     "output_type": "stream",
     "text": [
      "Mesh size: 0.08\n",
      "Degrees of freedom: 3687\n",
      "Electric error: 0.0028123271328284252\n",
      "Magnetic error: 0.00219281928241868\n",
      "E-Plane Wave Error 0.1597740904365228\n",
      "M-Plane Wave Error 0.15992259198315953\n",
      "Mesh size: 0.08857142857142858\n",
      "Degrees of freedom: 3111\n",
      "Electric error: 0.0027868457023115744\n",
      "Magnetic error: 0.002133244526178285\n",
      "E-Plane Wave Error 0.15967183924922435\n",
      "M-Plane Wave Error 0.15986952209351724\n",
      "Mesh size: 0.09714285714285714\n",
      "Degrees of freedom: 2652\n",
      "Electric error: 0.003137124232269599\n",
      "Magnetic error: 0.0022430825635989943\n",
      "E-Plane Wave Error 0.15958643935461433\n",
      "M-Plane Wave Error 0.15975284323959807\n",
      "Mesh size: 0.10571428571428572\n",
      "Degrees of freedom: 2196\n",
      "Electric error: 0.0030374035615371676\n",
      "Magnetic error: 0.002252287511734309\n",
      "E-Plane Wave Error 0.15936858699151563\n",
      "M-Plane Wave Error 0.1597242183912487\n",
      "Mesh size: 0.1142857142857143\n",
      "Degrees of freedom: 1794\n",
      "Electric error: 0.0031394816262202887\n",
      "Magnetic error: 0.0023275651321729676\n",
      "E-Plane Wave Error 0.15910538531437587\n",
      "M-Plane Wave Error 0.15961632871972792\n",
      "Mesh size: 0.12285714285714286\n",
      "Degrees of freedom: 1794\n",
      "Electric error: 0.003140651611430643\n",
      "Magnetic error: 0.0023267677945712083\n",
      "E-Plane Wave Error 0.15910512297925475\n",
      "M-Plane Wave Error 0.15961605034830134\n",
      "Mesh size: 0.13142857142857145\n",
      "Degrees of freedom: 1467\n",
      "Electric error: 0.003914370719461814\n",
      "Magnetic error: 0.0025069514320432518\n",
      "E-Plane Wave Error 0.15886017299136101\n",
      "M-Plane Wave Error 0.1595175923625899\n",
      "Mesh size: 0.14\n",
      "Degrees of freedom: 1464\n",
      "Electric error: 0.00390846272895587\n",
      "Magnetic error: 0.00250934717787014\n",
      "E-Plane Wave Error 0.15887292461972471\n",
      "M-Plane Wave Error 0.1595265085383901\n",
      "Mesh size: 0.14857142857142858\n",
      "Degrees of freedom: 1068\n",
      "Electric error: 0.003599808377081996\n",
      "Magnetic error: 0.0024355678554732413\n",
      "E-Plane Wave Error 0.15883766179968584\n",
      "M-Plane Wave Error 0.15944435064256768\n",
      "Mesh size: 0.15714285714285714\n",
      "Degrees of freedom: 1068\n",
      "Electric error: 0.0035957906259077533\n",
      "Magnetic error: 0.0024361268523088063\n",
      "E-Plane Wave Error 0.15883516893849595\n",
      "M-Plane Wave Error 0.1594449464625994\n",
      "Mesh size: 0.1657142857142857\n",
      "Degrees of freedom: 1068\n",
      "Electric error: 0.00364492443240541\n",
      "Magnetic error: 0.0024587985539372957\n",
      "E-Plane Wave Error 0.1588362812547654\n",
      "M-Plane Wave Error 0.15942661609985465\n",
      "Mesh size: 0.1742857142857143\n",
      "Degrees of freedom: 810\n",
      "Electric error: 0.0037817468503127715\n",
      "Magnetic error: 0.0025657016660457126\n",
      "E-Plane Wave Error 0.15825262391673497\n",
      "M-Plane Wave Error 0.15917406942739695\n",
      "Mesh size: 0.18285714285714288\n",
      "Degrees of freedom: 810\n",
      "Electric error: 0.003794686638822402\n",
      "Magnetic error: 0.002557522466908199\n",
      "E-Plane Wave Error 0.15824943581684756\n",
      "M-Plane Wave Error 0.15922323078207293\n",
      "Mesh size: 0.19142857142857145\n",
      "Degrees of freedom: 810\n",
      "Electric error: 0.0037817468503129666\n",
      "Magnetic error: 0.0025657016660484352\n",
      "E-Plane Wave Error 0.15825262391673414\n",
      "M-Plane Wave Error 0.1591740694273963\n",
      "Mesh size: 0.2\n",
      "Degrees of freedom: 600\n",
      "Electric error: 0.004485911401128878\n",
      "Magnetic error: 0.0028302095328322846\n",
      "E-Plane Wave Error 0.157789885297015\n",
      "M-Plane Wave Error 0.15911603966629473\n"
     ]
    }
   ],
   "source": [
    "for h in hvec:\n",
    "    grid = bempp.api.shapes.cube(h=h)\n",
    "    multitrace = bempp.api.operators.boundary.maxwell.multitrace_operator(grid, k)\n",
    "    ident = bempp.api.operators.boundary.sparse.multitrace_identity(grid, spaces='maxwell')\n",
    "    calderon = .5 * ident + multitrace\n",
    "\n",
    "    e = bempp.api.GridFunction(calderon.domain_spaces[0], \n",
    "                               dual_space=calderon.dual_to_range_spaces[0], fun=plane_wave_e)\n",
    "    m = bempp.api.GridFunction(calderon.domain_spaces[1], \n",
    "                               dual_space=calderon.dual_to_range_spaces[1], fun=plane_wave_m)\n",
    "    \n",
    "    dof_count = calderon.domain_spaces[0].global_dof_count\n",
    "\n",
    "    # Compute the error between C and C**2\n",
    "    r1 = calderon * [e, m]\n",
    "    r2 = calderon * r1\n",
    "    electric_error = (r2[0] - r1[0]).l2_norm() / r1[0].l2_norm()\n",
    "    magnetic_error = (r2[1] - r1[1]).l2_norm() / r1[1].l2_norm()\n",
    "    e_error.append(electric_error)\n",
    "    m_error.append(magnetic_error)\n",
    "\n",
    "    # Compute the error of projecting a plane wave on the range of the discrete calderon operator\n",
    "    \n",
    "    [e_plane_wave_error, m_plane_wave_error] = (.5 * ident - multitrace) * [e, m]\n",
    "    ep_error.append(e_plane_wave_error.l2_norm() / e.l2_norm())\n",
    "    mp_error.append(m_plane_wave_error.l2_norm() / m.l2_norm())\n",
    "    \n",
    "    \n",
    "    print('Mesh size: {0}'.format(h))\n",
    "    print('Degrees of freedom: {0}'.format(dof_count))\n",
    "    print(\"Electric error: {0}\".format(electric_error))\n",
    "    print(\"Magnetic error: {0}\".format(magnetic_error))\n",
    "    print(\"E-Plane Wave Error {0}\".format(ep_error[-1]))\n",
    "    print(\"M-Plane Wave Error {0}\".format(mp_error[-1]))"
   ]
  },
  {
   "cell_type": "code",
   "execution_count": null,
   "metadata": {
    "collapsed": true
   },
   "outputs": [],
   "source": [
    "print(e_error)\n",
    "print(m_error)\n",
    "print(ep_error)\n",
    "print(mp_error)"
   ]
  },
  {
   "cell_type": "code",
   "execution_count": 6,
   "metadata": {
    "collapsed": true
   },
   "outputs": [],
   "source": [
    "%matplotlib inline\n",
    "from matplotlib import pyplot as plt"
   ]
  },
  {
   "cell_type": "code",
   "execution_count": 7,
   "metadata": {},
   "outputs": [
    {
     "name": "stdout",
     "output_type": "stream",
     "text": [
      "Order of electric error: 0.42393400893504446\n",
      "Order of magnetic error: 0.23698628014361636\n",
      "Order of electric projection error: -0.012038242992338823\n",
      "Order of magnetic projection error: -0.005404325090474022\n"
     ]
    }
   ],
   "source": [
    "slope_e, intercept_e = np.polyfit(np.log(hvec), np.log(e_error), 1)\n",
    "slope_m, intercept_m = np.polyfit(np.log(hvec), np.log(m_error), 1)\n",
    "slope_ep, intercept_ep = np.polyfit(np.log(hvec), np.log(ep_error), 1)\n",
    "slope_mp, intercept_mp = np.polyfit(np.log(hvec), np.log(mp_error), 1)\n",
    "\n",
    "print(\"Order of electric error: {0}\".format(slope_e))\n",
    "print(\"Order of magnetic error: {0}\".format(slope_m))\n",
    "print(\"Order of electric projection error: {0}\".format(slope_ep))\n",
    "print(\"Order of magnetic projection error: {0}\".format(slope_mp))"
   ]
  },
  {
   "cell_type": "code",
   "execution_count": 8,
   "metadata": {},
   "outputs": [
    {
     "data": {
      "image/png": "[encoded data removed]",
      "text/plain": [
       "<matplotlib.figure.Figure at 0x7fe4657f2be0>"
      ]
     },
     "metadata": {},
     "output_type": "display_data"
    }
   ],
   "source": [
    "plt.loglog(hvec, e_error, 'b.-', markersize=10)\n",
    "plt.loglog(hvec, m_error, 'r.-', markersize=10)\n",
    "plt.legend([\"electric error\", \"magnetic error\"],fontsize = 16)\n",
    "\n",
    "plt.xlabel('h', fontsize = 16)\n",
    "plt.ylabel('relative error', fontsize = 16)\n",
    "plt.tick_params(axis='both', which='major', labelsize=10)\n",
    "plt.tick_params(axis='both', which='minor', labelsize=8)\n"
   ]
  },
  {
   "cell_type": "code",
   "execution_count": null,
   "metadata": {
    "collapsed": true
   },
   "outputs": [],
   "source": []
  }
 ],
 "metadata": {
  "kernelspec": {
   "display_name": "Python 3",
   "language": "python",
   "name": "python3"
  },
  "language_info": {
   "codemirror_mode": {
    "name": "ipython",
    "version": 3
   },
   "file_extension": ".py",
   "mimetype": "text/x-python",
   "name": "python",
   "nbconvert_exporter": "python",
   "pygments_lexer": "ipython3",
   "version": "3.6.3"
  }
 },
 "nbformat": 4,
 "nbformat_minor": 2
}
