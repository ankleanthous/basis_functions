{
 "cells": [
  {
   "cell_type": "code",
   "execution_count": 1,
   "metadata": {
    "collapsed": true
   },
   "outputs": [],
   "source": [
    "import bempp.api\n",
    "import numpy as np\n",
    "\n",
    "bempp.api.set_ipython_notebook_viewer()"
   ]
  },
  {
   "cell_type": "markdown",
   "metadata": {},
   "source": [
    "To create an obstacle, for example a sphere of mesh size $h=0.5$. "
   ]
  },
  {
   "cell_type": "code",
   "execution_count": 2,
   "metadata": {},
   "outputs": [
    {
     "data": {
      "application/vnd.jupyter.widget-view+json": {
       "model_id": "76630f62425b40938b10c4ef961bc61e",
       "version_major": 2,
       "version_minor": 0
      },
      "text/plain": [
       "A Jupyter Widget"
      ]
     },
     "metadata": {},
     "output_type": "display_data"
    },
    {
     "data": {
      "application/vnd.jupyter.widget-view+json": {
       "model_id": "3bec4ca69d374030bd01fc1c89a568c2",
       "version_major": 2,
       "version_minor": 0
      },
      "text/plain": [
       "A Jupyter Widget"
      ]
     },
     "metadata": {},
     "output_type": "display_data"
    },
    {
     "data": {
      "application/vnd.jupyter.widget-view+json": {
       "model_id": "4552ede3640a4b1fb5d78728c8244ce8",
       "version_major": 2,
       "version_minor": 0
      },
      "text/plain": [
       "A Jupyter Widget"
      ]
     },
     "metadata": {},
     "output_type": "display_data"
    }
   ],
   "source": [
    "grid = bempp.api.shapes.sphere(h=0.5)\n",
    "grid.plot()"
   ]
  },
  {
   "cell_type": "markdown",
   "metadata": {},
   "source": [
    "To do a barycentric or bogaert refinement on the grid\n"
   ]
  },
  {
   "cell_type": "code",
   "execution_count": 3,
   "metadata": {
    "collapsed": true
   },
   "outputs": [],
   "source": [
    "ref1 = grid.barycentric_grid()\n",
    "ref2 = grid.bogaert_refinement_grid()"
   ]
  },
  {
   "cell_type": "markdown",
   "metadata": {},
   "source": [
    "To define the basis functions on the grid:\n",
    "Note that BC (Buffa Christiansen), RBC (Rotated Buffa Christiansen), CW (Chen Wilton) and RCW (Rotated Chen Wilton) functions are defined on the barycentrically refined grid but MCW (Modified CW) and MRCW (Modified RCW) are defined on the Bogaert refined grid"
   ]
  },
  {
   "cell_type": "code",
   "execution_count": 4,
   "metadata": {
    "collapsed": true
   },
   "outputs": [],
   "source": [
    "bc_space = bempp.api.function_space(grid, \"BC\", 0)\n",
    "rbc_space = bempp.api.function_space(grid, \"RBC\", 0)\n",
    "\n",
    "cw_space = bempp.api.function_space(grid, \"CW\", 0)\n",
    "rcw_space = bempp.api.function_space(grid, \"RCW\", 0)\n",
    "\n",
    "mcw_space = bempp.api.function_space(grid, \"MCW\", 0)\n",
    "mrcw_space = bempp.api.function_space(grid, \"MRCW\", 0)\n",
    "\n"
   ]
  },
  {
   "cell_type": "markdown",
   "metadata": {},
   "source": [
    "You can also define RWG, RT, NC and SNC basis functions on the original grid, the barycentrically refined grid and the bogaert refined grid as follows"
   ]
  },
  {
   "cell_type": "code",
   "execution_count": 5,
   "metadata": {
    "collapsed": true
   },
   "outputs": [],
   "source": [
    "#Initial grid\n",
    "rt_space = bempp.api.function_space(grid, \"RT\", 0)\n",
    "rwg_space = bempp.api.function_space(grid, \"RWG\", 0)\n",
    "nc_space = bempp.api.function_space(grid, \"NC\", 0)\n",
    "snc_space = bempp.api.function_space(grid, \"SNC\", 0)\n",
    "\n",
    "#Barycentric refinements\n",
    "brt_space = bempp.api.function_space(grid, \"B-RT\", 0)\n",
    "brwg_space = bempp.api.function_space(grid, \"B-RWG\", 0)\n",
    "bnc_space = bempp.api.function_space(grid, \"B-NC\", 0)\n",
    "bsnc_space = bempp.api.function_space(grid, \"B-SNC\", 0)\n",
    "\n",
    "#Bogaert refinementes\n",
    "bgrt_space = bempp.api.function_space(grid, \"BG-RT\", 0)\n",
    "bgrwg_space = bempp.api.function_space(grid, \"BG-RWG\", 0)\n",
    "bgnc_space = bempp.api.function_space(grid, \"BG-NC\", 0)\n",
    "bgsnc_space = bempp.api.function_space(grid, \"BG-SNC\", 0)"
   ]
  },
  {
   "cell_type": "code",
   "execution_count": null,
   "metadata": {
    "collapsed": true
   },
   "outputs": [],
   "source": []
  }
 ],
 "metadata": {
  "kernelspec": {
   "display_name": "Python 3",
   "language": "python",
   "name": "python3"
  },
  "language_info": {
   "codemirror_mode": {
    "name": "ipython",
    "version": 3
   },
   "file_extension": ".py",
   "mimetype": "text/x-python",
   "name": "python",
   "nbconvert_exporter": "python",
   "pygments_lexer": "ipython3",
   "version": "3.6.3"
  }
 },
 "nbformat": 4,
 "nbformat_minor": 2
}
